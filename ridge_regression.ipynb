{
 "cells": [
  {
   "cell_type": "markdown",
   "id": "19f12957",
   "metadata": {},
   "source": [
    "<a href=\"https://colab.research.google.com/github/david-adewoyin/machine_learning_basics/blob/main/ridge_regression.ipynb\" target=\"_parent\"><img src=\"https://colab.research.google.com/assets/colab-badge.svg\" alt=\"Open In Colab\"/></a>"
   ]
  },
  {
   "cell_type": "markdown",
   "id": "27bd7440",
   "metadata": {},
   "source": [
    "## Ridge Regression\n",
    "### Python Implementation of Ridge Regression from scratch\n",
    "**Ridge Regression** (also called *Tikhonov regularization* or *L2 regularization*) is a regularized version of the linear regression in which the we try to account for overfitting by forcing the learning algorithm to keep the weights of our model as small as possible.\n",
    "\n",
    "\n",
    "\n",
    "### Notation and Definitions:  \n",
    "- $y:   $    target value. \n",
    "- $\\lambda:$ regularization hyperparameter\n",
    "- $\\boldsymbol{x}:   $    independent (explanatory) variable also known as the input variable or feature.\n",
    "- $\\alpha:$ is the learning rate which determmines the step size at each iteration\n",
    "- $\\boldsymbol{w},b :   $ are the parameters of the algorithm\n",
    "- $f_{\\boldsymbol{w},b}(x^{(i)}):  $ is our prediction for example $i$ using parameters $\\boldsymbol{w},b$.\n",
    "- $\\boldsymbol{D} = \\{{\\boldsymbol{(x^{(1)}},y^{(1)})},...,\\boldsymbol{(x^{(n)}},y^{(n)})\\}$: is the set of n training examples, where:\n",
    "    - $\\boldsymbol{(x^{(i)}}) $ is the $d$ dimensional input vector ;being the feature vector consisting of$ (x_1,x_2, ...x_d)$ of the training example $\\boldsymbol{i}$ \n",
    "    - $y^{(i)}$ is the desired output value for that input vector\n",
    "- $(\\boldsymbol{x^{(i)}},y^{(i)})$: an instance of a training example.\n",
    "\n",
    "#### $\\lambda$ hyperparameter\n",
    "$\\lambda $ is an hyperparameter that determines how much we want to regularize the model, higher values means more penalty which in turn causes the weights value chosen to be small and smaller values in $\\lambda$ reduces the effect of regularization with $\\lambda = 0$ meaning not to regularize the model.  \n",
    "  \n",
    "  <figure style=\"margin-left:auto;margin-right:auto;text-align:center\">\n",
    "    <br><br>\n",
    " <img src=\"images/ridge_regression.png\" width ='500px'><br>\n",
    "       <cite style='text-align:center'>Hands-on Machine Learning with Scikit-Learn, Keras, andTensorFlow</cite><br>\n",
    "    <br></figure>\n",
    "  \n",
    "### Training \n",
    "Training ridge regression is similar to the linear regression except with a regularizion term added to the cost function.  \n",
    "Ridge Regression model can also be trained using :  \n",
    "- Gradient Descent or\n",
    "- The normal equation (closed form solution) having the form $ \\boldsymbol{w}=(X^{T}X + \\lambda \\boldsymbol{A})^{-1}X^Ty $    \n",
    "Where $\\boldsymbol{X}$ is the matrix of all the input features of the training examples.  \n",
    "and **A** is the $(n-1) * (n+1) $ identity matrix.\n",
    "Unlike other types of regularization such as the Lasso regularization, the ridge regression has a closed form solution and a optimal solution.\n",
    "\n",
    "#### Gradient Descent Algorithm\n",
    "\n",
    "- We added an additional term at the end of the cost function to be minimized\n",
    "\n",
    "$$\n",
    "J(w,b)=\\frac{1}{2m} \\sum\\limits_{i=1}^{m}=(f_{w,b}(x^{(i)}) - y^{(i)})^2 + \\frac{1}{2m}\\lambda\\sum\\limits_{j=1}^{n}w_j^2\n",
    "$$  \n",
    "Computing the partial derivatives of the weights and biases equals :\n",
    "\n",
    "$$\\begin{align*}\n",
    "\\frac{\\partial J(\\mathbf{w},b)}{\\partial w_j}  &= \\frac{1}{m} \\sum\\limits_{i}^{m} (f_{\\mathbf{w},b}(\\mathbf{x}^{(i)}) - y^{(i)})x_{j}^{(i)}  +  \\frac{\\lambda}{m} w_j \\tag{2} \\\\\n",
    "\\frac{\\partial J(\\mathbf{w},b)}{\\partial b}  &= \\frac{1}{m} \\sum\\limits_{i = 1}^{m} (f_{\\mathbf{w},b}(\\mathbf{x}^{(i)}) - y^{(i)}) \\tag{3} \n",
    "\\end{align*}$$\n",
    "\n"
   ]
  },
  {
   "cell_type": "code",
   "execution_count": 1,
   "id": "d85ff65c",
   "metadata": {},
   "outputs": [],
   "source": [
    "## Importing required modules\n",
    "import numpy as np\n",
    "from sklearn.datasets import make_regression\n",
    "from sklearn.model_selection import train_test_split\n",
    "from sklearn.preprocessing import PolynomialFeatures\n",
    "from sklearn.linear_model import LinearRegression\n",
    "from sklearn.metrics import mean_squared_error\n",
    "import matplotlib.pyplot as plt\n",
    "\n",
    "np.random.seed(126)"
   ]
  },
  {
   "cell_type": "code",
   "execution_count": 2,
   "id": "4df89a05",
   "metadata": {},
   "outputs": [],
   "source": [
    "## Creating a simple training set\n",
    "X,y=make_regression(1000,n_features=6,noise=5)"
   ]
  },
  {
   "cell_type": "code",
   "execution_count": 3,
   "id": "5bba1fb6",
   "metadata": {},
   "outputs": [],
   "source": [
    "## Split the data into train and test set\n",
    "X_train,X_test,y_train,y_test=train_test_split(X,y,test_size=0.8)"
   ]
  },
  {
   "cell_type": "code",
   "execution_count": 4,
   "id": "227699d1",
   "metadata": {},
   "outputs": [
    {
     "name": "stdout",
     "output_type": "stream",
     "text": [
      " the shape of X_train is (200, 6)\n"
     ]
    }
   ],
   "source": [
    "# X_train has 5 features and 700 examples\n",
    "print(f\" the shape of X_train is {X_train.shape}\")"
   ]
  },
  {
   "cell_type": "code",
   "execution_count": 5,
   "id": "9451c2f6",
   "metadata": {},
   "outputs": [
    {
     "data": {
      "text/plain": [
       "<matplotlib.collections.PathCollection at 0x7fa3fce09d00>"
      ]
     },
     "execution_count": 5,
     "metadata": {},
     "output_type": "execute_result"
    },
    {
     "data": {
      "image/png": "[encoded data removed]",
      "text/plain": [
       "<Figure size 504x360 with 1 Axes>"
      ]
     },
     "metadata": {
      "needs_background": "light"
     },
     "output_type": "display_data"
    }
   ],
   "source": [
    "# Visualizing y_train against the first feature of X_train\n",
    "fig=plt.figure(figsize=(7,5))\n",
    "plt.title(\"Dataset\")\n",
    "plt.xlabel(\"First feature\")\n",
    "plt.ylabel(\"Target value\")\n",
    "plt.scatter(X_train[:,0],y_train)"
   ]
  },
  {
   "cell_type": "code",
   "execution_count": 37,
   "id": "7b630b30",
   "metadata": {},
   "outputs": [],
   "source": [
    "class RidgeRegression:\n",
    "    \"\"\"\n",
    "        Trains a ridge regression model using gradient descent\n",
    "        \"\"\"\n",
    "    def __init__(self, lambda_ = 0,n_iter=1_000,learning_rate=0.001,verbose=False):\n",
    "        self.lambda_ = lambda_\n",
    "        self.n_iter= n_iter\n",
    "        self.learning_rate = learning_rate\n",
    "        self.verbose = verbose\n",
    "    \n",
    "    def predict(self,X):\n",
    "        return np.dot(self.w,X.T) + self.b\n",
    "    \n",
    "    def fit(self,X,y):\n",
    "        \n",
    "        m_rows,n_features  = X.shape # (number of examples, number of features )\n",
    "\n",
    "        ## initialize  the set of weights and bias to some random value\n",
    "        self.w = np.zeros((n_features,))\n",
    "        self.b = 0\n",
    "        costs= []\n",
    "        \n",
    "        for i in range(self.n_iter):\n",
    "            dj_dw,dj_db = self._gradient(X,y)\n",
    "            self.w = self.w -  self.learning_rate * dj_dw\n",
    "            self.b = self.b -  self.learning_rate * dj_db\n",
    "            \n",
    "            y_hat = self.predict(X)\n",
    "            cost = self._cost_function(y_hat,y,n_features)\n",
    "            costs.append(cost)\n",
    "            \n",
    "            if self.verbose and i % 500 == 0 : # print out the value of our costs function at every 500 iterations\n",
    "                print(f\"Cost as iteration {i}: {cost}\")\n",
    "                \n",
    "    def fit_normal(self,X,y):\n",
    "        X_trans_x= np.dot(X.T,X)\n",
    "        t = np.eye(X_trans_x.shape[0])\n",
    "        t=  X_trans_x + self.lambda_ * t\n",
    "        temp =  np.linalg.inv(t)\n",
    "        self.w = np.dot(np.dot(temp,X.T),y)\n",
    "        self.b = 0\n",
    "    def _gradient(self,X,y):\n",
    "        m_rows,n_features  = X.shape # (number of examples, number of features )\n",
    "        dj_dw = np.zeros((n_features,))\n",
    "        dj_db = 0\n",
    "        \n",
    "        err = (np.dot(self.w,X.T) + self.b) - y\n",
    "        \n",
    "        for i in range(n_features):\n",
    "            dj_dw[i] = np.sum( err * X[:,i])\n",
    "        dj_db = np.sum(err)\n",
    "        dj_dw = dj_dw/ m_rows\n",
    "        dj_db = dj_db/ m_rows\n",
    "        \n",
    "        for j in range(n_features):\n",
    "            if(self.lambda_ == 0):\n",
    "                break\n",
    "            reg = (self.lambda_/ m_rows) *self. w[j]\n",
    "            dj_dw[j] = dj_dw[j] + reg\n",
    "\n",
    "        return (dj_dw,dj_db)\n",
    "           \n",
    "    def _cost_function(self,y_hat,y,n_features):\n",
    "        m_rows = y.shape[0]\n",
    "        cost = np.sum(np.square(y_hat - y)) / (2*m_rows)\n",
    "        \n",
    "        reg_cost = 0\n",
    "        for j in range(n_features):\n",
    "            if(self.lambda_ == 0):\n",
    "                break\n",
    "            reg_cost += (self.w[j] ** 2)\n",
    "            reg_cost += (self.lambda_/(2*n_features))*reg_cost\n",
    "\n",
    "        return cost + reg_cost"
   ]
  },
  {
   "cell_type": "code",
   "execution_count": 38,
   "id": "a4d7b660",
   "metadata": {},
   "outputs": [],
   "source": [
    "ridge= RidgeRegression(lambda_=100)\n",
    "ridge.fit_normal(X_train_poly,y_train)"
   ]
  },
  {
   "cell_type": "code",
   "execution_count": 40,
   "id": "a35c8e9c",
   "metadata": {},
   "outputs": [
    {
     "data": {
      "text/plain": [
       "26.190806904819212"
      ]
     },
     "execution_count": 40,
     "metadata": {},
     "output_type": "execute_result"
    }
   ],
   "source": [
    "t = ridge.predict(X_train_poly)\n",
    "np.sqrt(mean_squared_error(y_train,t))"
   ]
  },
  {
   "cell_type": "markdown",
   "id": "980bb566",
   "metadata": {},
   "source": [
    "## Creating a linear model\n",
    "To see the impact of regularization we first create a polynomial model with 10 degree of polynomial"
   ]
  },
  {
   "cell_type": "code",
   "execution_count": 7,
   "id": "f0a747a7",
   "metadata": {},
   "outputs": [
    {
     "name": "stdout",
     "output_type": "stream",
     "text": [
      "The shape of X_train is (200, 6)\n",
      "The shape of X_train_poly is (200, 210)\n"
     ]
    }
   ],
   "source": [
    "transformer = PolynomialFeatures(4)\n",
    "X_train_poly = transformer.fit_transform(X_train)\n",
    "X_test_poly = transformer.transform(X_test)\n",
    "\n",
    "print(f\"The shape of X_train is {X_train.shape}\")\n",
    "print(f\"The shape of X_train_poly is {X_train_poly.shape}\")"
   ]
  },
  {
   "cell_type": "code",
   "execution_count": 8,
   "id": "b45eb0e8",
   "metadata": {},
   "outputs": [
    {
     "data": {
      "text/plain": [
       "LinearRegression()"
      ]
     },
     "execution_count": 8,
     "metadata": {},
     "output_type": "execute_result"
    }
   ],
   "source": [
    "lin_model = LinearRegression()\n",
    "lin_model.fit(X_train_poly,y_train)"
   ]
  },
  {
   "cell_type": "code",
   "execution_count": 9,
   "id": "d85f2a23",
   "metadata": {},
   "outputs": [
    {
     "name": "stdout",
     "output_type": "stream",
     "text": [
      "Our training error is :0.000\n",
      "Our testing error is :179.484\n"
     ]
    }
   ],
   "source": [
    "poly_train_pred = lin_model.predict(X_train_poly)\n",
    "poly_train_error = np.sqrt(mean_squared_error(y_train,poly_train_pred))\n",
    "\n",
    "poly_test_pred = lin_model.predict(X_test_poly)\n",
    "poly_test_error = np.sqrt(mean_squared_error(y_test,poly_test_pred))\n",
    "\n",
    "print(f\"Our training error is :{poly_train_error :.3f}\")\n",
    "print(f\"Our testing error is :{poly_test_error :.3f}\")"
   ]
  },
  {
   "cell_type": "markdown",
   "id": "2848b0eb",
   "metadata": {},
   "source": [
    "## Resulting of the Polynomial Model\n",
    "The polynomial model of 10 degree achieve a training error of `0` but has a very high error on the test showing the effect of overfitting the training data  \n",
    "Now We turn our attention to using ridge regression to solve the problem of overfitting.\n",
    "## using Ridge Regression\n",
    "We are going to be using the sklearn implementation of ridge regression which is based on the closed form solution for stability"
   ]
  },
  {
   "cell_type": "code",
   "execution_count": 10,
   "id": "327bbc9f",
   "metadata": {},
   "outputs": [],
   "source": [
    "from sklearn.linear_model import Ridge"
   ]
  },
  {
   "cell_type": "code",
   "execution_count": 18,
   "id": "d8ec32ec",
   "metadata": {},
   "outputs": [
    {
     "data": {
      "text/plain": [
       "Ridge(alpha=100)"
      ]
     },
     "execution_count": 18,
     "metadata": {},
     "output_type": "execute_result"
    }
   ],
   "source": [
    "ridge = Ridge(alpha=100)\n",
    "ridge.fit(X_train_poly,y_train)"
   ]
  },
  {
   "cell_type": "code",
   "execution_count": 12,
   "id": "2a97584c",
   "metadata": {},
   "outputs": [
    {
     "name": "stdout",
     "output_type": "stream",
     "text": [
      "Our training error using ridge regression is :26.172\n",
      "Our test error using ridge regression is :77.595\n"
     ]
    }
   ],
   "source": [
    "train_pred =ridge.predict(X_train_poly)\n",
    "train_error = np.sqrt(mean_squared_error(y_train,train_pred))\n",
    "\n",
    "test_pred = ridge.predict(X_test_poly)\n",
    "test_error = np.sqrt(mean_squared_error(y_test,test_pred))\n",
    "\n",
    "print(f\"Our training error using ridge regression is :{train_error :.3f}\")\n",
    "print(f\"Our test error using ridge regression is :{test_error :.3f}\")"
   ]
  },
  {
   "cell_type": "markdown",
   "id": "72264da2",
   "metadata": {},
   "source": [
    "### Comparing the test  error of ridge regression with the linear regression shows a lower value"
   ]
  }
 ],
 "metadata": {
  "kernelspec": {
   "display_name": "Python 3 (ipykernel)",
   "language": "python",
   "name": "python3"
  },
  "language_info": {
   "codemirror_mode": {
    "name": "ipython",
    "version": 3
   },
   "file_extension": ".py",
   "mimetype": "text/x-python",
   "name": "python",
   "nbconvert_exporter": "python",
   "pygments_lexer": "ipython3",
   "version": "3.9.7"
  }
 },
 "nbformat": 4,
 "nbformat_minor": 5
}
