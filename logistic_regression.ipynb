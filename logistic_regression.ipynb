{
 "cells": [
  {
   "cell_type": "markdown",
   "id": "d170e3ec",
   "metadata": {},
   "source": [
    "<a href=\"https://colab.research.google.com/github/david-adewoyin/machine_learning_from_scatch/blob/main/logistic_regression.ipynb\" target=\"_parent\"><img src=\"https://colab.research.google.com/assets/colab-badge.svg\" alt=\"Open In Colab\"/></a>"
   ]
  },
  {
   "cell_type": "markdown",
   "id": "f485d0f1",
   "metadata": {},
   "source": [
    "## Logistic Regression\n",
    "### Logistic Regression in Plain Python\n",
    "In *Logistic Regression* we try to predict the outcome of a **binary** variable from one or more independent variables. Logistic Regression is an example of a binary classification problem where for example we might try to predict whether an email is a *spam/not spam* or whether a student will *pass/ or fail* an exam from one or more independent variables such as hours spent reading and how much class they attended.\n",
    "\n",
    "### Notation and Definitions:  \n",
    "- $y:   $    target value $\\in \\{{0,1}\\}$. \n",
    "- $\\boldsymbol{x}:   $    independent (explanatory) variable also known as the input variable or feature.\n",
    "- $\\alpha:$ is the learning rate which determmines the step size at each iteration\n",
    "- $\\boldsymbol{w},b :   $ are the parameters of the algorithm\n",
    "- $f_{\\boldsymbol{w},b}(x^{(i)}) = g(z):  $ is our prediction for example $i$ using parameters $\\boldsymbol{w},b$.\n",
    "- $\\boldsymbol{D} = \\{{\\boldsymbol{(x^{(1)}},y^{(1)})},...,\\boldsymbol{(x^{(n)}},y^{(n)})\\}$: is the set of n training examples, where:\n",
    "    - $\\boldsymbol{(x^{(i)}}) $ is the $d$ dimensional input vector ;being the feature vector consisting of$ (x_1,x_2, ...x_d)$ of the training example $\\boldsymbol{i}$ \n",
    "    - $y^{(i)}$ is the desired output value for that input vector\n",
    "- $(\\boldsymbol{x^{(i)}},y^{(i)})$: an instance of a training example.\n",
    "\n",
    "### Intuition\n",
    "<figure style=\"margin-left:auto;margin-right:auto;text-align:center\">\n",
    "    <img src= \"images/sigmoidUnit.png\" width=\"600\" style=\" margin-left=auto;margin-right=auto;display=block;\"/> <br>\n",
    "       <cite style='text-align:center'><a href =\"https://machinelearningmastery.com/a-gentle-introduction-to-sigmoid-function/\">machine learning mastery</a></cite><br><br>\n",
    "    </figure>\n",
    "A logistic function output values in between 0 and 1 corresponding to the probabilities of y given the independent variable. The output of a linear function which is continuous in nature is fed into a sigmoid function which has the range of values of [0,1].  \n",
    "\n",
    "\n",
    "### Training \n",
    "Unlike the linear model, the logistic model does not have a closed form solution but can only be trained using gradient descent\n",
    "\n",
    "#### Gradient Descent Algorithm\n",
    "\n",
    "- Given a set of training examples ${(x^{(n)},y^{(n)})}$: the goal of gradient descent is to minimize the cost function  below through an iterative process.  \n",
    "\n",
    "$$ J(\\mathbf{w},b) = \\frac{1}{m} \\sum_{i=1}^{m} \\left[ loss(f_{\\mathbf{w},b}(\\mathbf{x}^{(i)}), y^{(i)}) \\right] \\tag{1} $$\n",
    "\n",
    "where the **loss** of a single training data is given as :  \n",
    "$$  L((f_{\\mathbf{w},b}(\\mathbf{x}^{(i)}),y^{(i)})) = \\begin{cases} \\\\\n",
    "- log(f_{\\mathbf{w},b}(\\mathbf{x}^{(i)})  &   \\text{if $y^{(i)} = 1$ }    \\\\\n",
    "-log(1 - f_{\\mathbf{w},b}(\\mathbf{x}^{(i)})) & \\text{if $y^{(i)} = 0$}\n",
    "\\end{cases}$$ \n",
    "\n",
    "**Steps:**   \n",
    "Step 0: Initialize all weights $\\boldsymbol{w}$, and b at random or zero   \n",
    "\n",
    "\n",
    "**Repeat until convergence {**   \n",
    "Step 1 : calculate the linear combination of the **feature vectors** $\\boldsymbol{x_{i}}$ and weights $\\boldsymbol{w},  b$   \n",
    "Step 2: pass the output of the previous step into the sigmoid function $$ g(z) = \\frac{1}{{1+e^{-z}}} \\tag{1} $$\n",
    "where: $0 < g(z) <1$   \n",
    "Step 3:  calculate the partial derivates of **w** and *b* :\n",
    "\n",
    "\n",
    "$$  \n",
    "\\begin{align}\n",
    "\\frac{\\partial}{\\partial w_j} J(\\boldsymbol{w},b) = \\frac{1}{m}\\sum\\limits_{i=1}^{m}(g(z) - y^{(i)})x_j^{(i)} \\tag{2} \\\\\n",
    "\\frac{\\partial}{\\partial b} J(\\boldsymbol{w},b) = \\frac{1}{m}\\sum\\limits_{i=1}^{m}(g(z) - y^{(i)}) \\tag{3}\n",
    "\\end{align}\n",
    "$$ \n",
    "Step 4: update **w** and *b* :   \n",
    "\n",
    "$$  \n",
    "\\begin{align}\n",
    "w_{j} = w_{j} - \\alpha \\frac{\\partial}{\\partial w_j} J(\\boldsymbol{w},b)  \\tag{4} \\\\ \n",
    "b = b - \\alpha \\frac{\\partial}{\\partial b} J(\\boldsymbol{w},b)  \\tag{5}\n",
    "\\end{align}\n",
    "$$  \n",
    "**}**  \n",
    "Below we implement The logistic regression"
   ]
  },
  {
   "cell_type": "code",
   "execution_count": 1,
   "id": "a9ff69dc",
   "metadata": {},
   "outputs": [],
   "source": [
    "## Importing required modules\n",
    "import numpy as np\n",
    "from sklearn.datasets import make_blobs\n",
    "from sklearn.model_selection import train_test_split\n",
    "import matplotlib.pyplot as plt\n",
    "import seaborn as sns\n",
    "\n",
    "np.random.seed(126)"
   ]
  },
  {
   "cell_type": "code",
   "execution_count": 2,
   "id": "e11ef489",
   "metadata": {},
   "outputs": [],
   "source": [
    "#Generating the dataset\n",
    "X,y=make_blobs(n_samples=1000,centers=2,random_state=123)"
   ]
  },
  {
   "cell_type": "code",
   "execution_count": 3,
   "id": "f3b92d61",
   "metadata": {},
   "outputs": [
    {
     "name": "stdout",
     "output_type": "stream",
     "text": [
      "the shape of X_train is (750, 2)\n"
     ]
    }
   ],
   "source": [
    "# Spliting our dataset into train and test set\n",
    "X_train,X_test,y_train,y_test=train_test_split(X,y,random_state=123)\n",
    "\n",
    "# X has two features and  1000 examples\n",
    "print(f\"the shape of X_train is {X_train.shape}\")"
   ]
  },
  {
   "cell_type": "code",
   "execution_count": 4,
   "id": "b7f6c2a4",
   "metadata": {},
   "outputs": [
    {
     "data": {
      "text/plain": [
       "Text(0.5, 1.0, 'Second Against First Feature')"
      ]
     },
     "execution_count": 4,
     "metadata": {},
     "output_type": "execute_result"
    },
    {
     "data": {
      "image/png": "[encoded data removed]",
      "text/plain": [
       "<Figure size 432x288 with 1 Axes>"
      ]
     },
     "metadata": {
      "needs_background": "light"
     },
     "output_type": "display_data"
    }
   ],
   "source": [
    "plt.scatter(X_train[:,0],X_train[:,1],c=y_train)\n",
    "plt.xlabel(\"First Feature\")\n",
    "plt.ylabel(\"Second Feature\")\n",
    "plt.title(\"Second Against First Feature\")"
   ]
  },
  {
   "cell_type": "markdown",
   "id": "261af04b",
   "metadata": {},
   "source": [
    "## Logistic Regression"
   ]
  },
  {
   "cell_type": "code",
   "execution_count": 5,
   "id": "8452da22",
   "metadata": {},
   "outputs": [],
   "source": [
    "class LogisticRegression:\n",
    "    \n",
    "    def __init__(self,learning_rate= 0.001,n_iter=10000,verbose=False):\n",
    "        self.learning_rate = learning_rate\n",
    "        self.n_iter = n_iter\n",
    "        self.verbose = False\n",
    "    \n",
    "    def predict(self,X):\n",
    "        \"\"\"\"\n",
    "        predict output an hard prediction namely 0 or 1\n",
    "        \"\"\" \n",
    "        z = np.dot(self.w,X.T) + self.b\n",
    "        return self._sigmoid(z) > 0.5\n",
    "    \n",
    "    def predict_proba(self,X):\n",
    "        \"\"\"\"\n",
    "        predict_proba output soft predictions of probabilities between 0 and 1\n",
    "        \"\"\" \n",
    "        z = np.dot(self.w,X.T) + self.b\n",
    "        return self._sigmoid(z) \n",
    "        \n",
    "    def fit(self,X,y):\n",
    "        \"\"\"\n",
    "        Trains the logistic regression model\n",
    "        \"\"\"\n",
    "        m_rows,n_features  = X.shape # (number of examples, number of features )\n",
    "\n",
    "        ## initialize  the set of weights and bias to some random value\n",
    "        self.w =np.zeros((n_features,))\n",
    "        self.b = 0\n",
    "        costs= []\n",
    "        \n",
    "        for i in range(self.n_iter):\n",
    "            dj_dw,dj_db = self.gradient(X,y)\n",
    "            self.w = self.w -  self.learning_rate * dj_dw\n",
    "            self.b = self.b -  self.learning_rate * dj_db\n",
    "            \n",
    "            z = np.dot(self.w,X.T) + self.b\n",
    "            pred = self._sigmoid(z)\n",
    "            cost =self._cost_function(pred,y)\n",
    "            costs.append(cost)\n",
    "            \n",
    "            if self.verbose and i % 500 == 0: # print out the value of our costs function at every 500 iterations\n",
    "                print(f\"Cost as iteration {i}: {cost}\")\n",
    "        \n",
    "    def gradient(self,X,y):\n",
    "        m_rows,n_features  = X.shape # (number of examples, number of features )\n",
    "        dj_dw = np.zeros((n_features,))\n",
    "        dj_db = 0\n",
    "        \n",
    "        \n",
    "        pred = self.predict(X)\n",
    "        err = pred - y\n",
    "        \n",
    "        for i in range(n_features):\n",
    "            dj_dw[i] = np.sum( err * X[:,i])\n",
    "        dj_db = np.sum(err)\n",
    "        \n",
    "        dj_dw = dj_dw/ m_rows\n",
    "        dj_db = dj_db/ m_rows\n",
    "        \n",
    "        return (dj_dw,dj_db)\n",
    "    \n",
    "    def _sigmoid(self,z):\n",
    "        \"\"\"\"\n",
    "        Function to calculate the sigmoid function\n",
    "        \"\"\" \n",
    "        return 1/(1+np.exp(-z)) \n",
    "           \n",
    "    def _cost_function(self,y_hat,y):\n",
    "        \"\"\"\"\n",
    "        Function to calculate the cost \n",
    "        \"\"\" \n",
    "        m_rows = y_hat.shape\n",
    "        first_part = y * np.log(y_hat)\n",
    "        second_part = (1 -y) * np.log(1 - y_hat)\n",
    "       \n",
    "        cost =  np.sum(first_part  - second_part) / m_rows\n",
    "        return cost\n",
    "    \n",
    "    def score(self,pred,y):\n",
    "        return np.sum(pred==y)/len(y) "
   ]
  },
  {
   "cell_type": "markdown",
   "id": "8c53b253",
   "metadata": {},
   "source": [
    "## Training our model "
   ]
  },
  {
   "cell_type": "code",
   "execution_count": 6,
   "id": "30d77ba6",
   "metadata": {},
   "outputs": [
    {
     "name": "stdout",
     "output_type": "stream",
     "text": [
      "accuracy on the training set: 1.00\n"
     ]
    }
   ],
   "source": [
    "## Instantializing our model\n",
    "model = LogisticRegression()\n",
    "model.fit(X_train,y_train)\n",
    "y_pred_train = model.predict(X_train)\n",
    "\n",
    "##calculating the accuracy of our model on the training set\n",
    "acc_train=model.score(y_pred_train,y_train)\n",
    "\n",
    "print(f\"accuracy on the training set: {acc_train :.2f}\")"
   ]
  },
  {
   "cell_type": "markdown",
   "id": "65df2576",
   "metadata": {},
   "source": [
    "## Testing our model"
   ]
  },
  {
   "cell_type": "code",
   "execution_count": 7,
   "id": "6c822cdb",
   "metadata": {},
   "outputs": [
    {
     "name": "stdout",
     "output_type": "stream",
     "text": [
      "accuracy on the testing set: 1.0\n"
     ]
    }
   ],
   "source": [
    "## calling predict on the test set\n",
    "y_pred_test=model.predict(X_test)\n",
    "\n",
    "## calculating the accuracy of our model \n",
    "acc_test = model.score(y_pred_test,y_test)\n",
    "\n",
    "print(f\"accuracy on the testing set: {acc_test}\")"
   ]
  },
  {
   "cell_type": "markdown",
   "id": "f396f70a",
   "metadata": {},
   "source": [
    "Our model has an accuracy of 1.0 on both the training and test set because the dataset is linearly seperable"
   ]
  },
  {
   "cell_type": "code",
   "execution_count": null,
   "id": "b16f5d6b",
   "metadata": {},
   "outputs": [],
   "source": []
  }
 ],
 "metadata": {
  "kernelspec": {
   "display_name": "Python 3 (ipykernel)",
   "language": "python",
   "name": "python3"
  },
  "language_info": {
   "codemirror_mode": {
    "name": "ipython",
    "version": 3
   },
   "file_extension": ".py",
   "mimetype": "text/x-python",
   "name": "python",
   "nbconvert_exporter": "python",
   "pygments_lexer": "ipython3",
   "version": "3.9.7"
  }
 },
 "nbformat": 4,
 "nbformat_minor": 5
}
