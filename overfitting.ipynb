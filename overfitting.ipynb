{
 "cells": [
  {
   "cell_type": "markdown",
   "id": "02594c2b",
   "metadata": {},
   "source": [
    "<a href=\"https://colab.research.google.com/github/david-adewoyin/machine_learning_from_scatch/blob/main/overfitting.ipynb\" target=\"_parent\"><img src=\"https://colab.research.google.com/assets/colab-badge.svg\" alt=\"Open In Colab\"/></a>"
   ]
  },
  {
   "cell_type": "markdown",
   "id": "dc8cd975",
   "metadata": {},
   "source": [
    "## Overfitting\n",
    "\n",
    "Ovefitting usually occurs when we choose a more complex model to fit our data in the presence of a small dataset, it can also occur if our model contains more parameters that can be justified from the data. The model unable to approximate the true target function from the handful of data unknowingly capture some of the noise in the dataset as part of the underlying model structure.  \n",
    "\n",
    "For example if the target of a training data can be predicted through a simple line, fitting a 3rd degree polynomial will result in the model capturing some of the noise in the data. Overfitting can also occur in the case of a 10th degree polynomial trying to fit the data produced by a 30th degree polynomial, in this case though the model is not complex enough to approximate the 30th degree polynomial, it overfit by being unable to recognize the underlying structure of the dataset.\n",
    "\n",
    "### Techniques for guiding again overfitting\n",
    "1. Increasing the size of our dataset\n",
    "2. Regularization: Regularization is a technique where we try to reduce overfitting by regularizing or constraining the model (check the other notebooks for regularization).\n",
    "\n",
    "  \n",
    "  <figure style=\"margin-left:auto;margin-right:auto;text-align:center\">\n",
    "    <br><br>\n",
    " <img src=\"images/ridge_regression.png\" width ='500px'><br>\n",
    "       <cite style='text-align:center'>Hands-on Machine Learning with Scikit-Learn, Keras, andTensorFlow</cite><br>\n",
    "    <br></figure>\n",
    "  The image above shows the effect of regularization on overfitting\n",
    "\n",
    "#### In this note we show the effect of overfitting and how increasing our dataset and using regularization guide against overfitting\n"
   ]
  },
  {
   "cell_type": "code",
   "execution_count": 1,
   "id": "5ce25931",
   "metadata": {},
   "outputs": [],
   "source": [
    "## Importing required modules\n",
    "import numpy as np\n",
    "from sklearn.model_selection import train_test_split,cross_val_score,cross_validate\n",
    "from sklearn.linear_model import LinearRegression,Ridge\n",
    "from sklearn.metrics import mean_squared_error\n",
    "from sklearn.preprocessing import PolynomialFeatures\n",
    "import matplotlib.pyplot as plt\n",
    "\n",
    "np.random.seed(126)"
   ]
  },
  {
   "cell_type": "markdown",
   "id": "26683b3f",
   "metadata": {},
   "source": [
    "### Generating the Dataset\n",
    "To demostrate overfitting we created our dataset using a cubic function plus some noise"
   ]
  },
  {
   "cell_type": "code",
   "execution_count": 2,
   "id": "1dfdb01c",
   "metadata": {},
   "outputs": [],
   "source": [
    "m=5_000 # Number of samples\n",
    "X=np.random.randint(1,5,size=(m,1))+np.random.randn(m,1) # we generated values between 0 and 10 with noise to it\n",
    "y =2*X+ 3*(X**2) +4*(X**3)+ 2+ np.random.randn(m,1) ## y is a  cubic polynomial of x\n",
    "\n",
    "## Splitting our data into training and test set\n",
    "## To make the effect of overfitting clear, we reduce the size of data in out training set\n",
    "X_train,X_test,y_train,y_test = train_test_split(X,y,train_size=0.01) "
   ]
  },
  {
   "cell_type": "code",
   "execution_count": 3,
   "id": "eec95172",
   "metadata": {},
   "outputs": [
    {
     "name": "stdout",
     "output_type": "stream",
     "text": [
      "The shape of X_train :(50, 1)\n",
      "The shape of y_train :(50, 1)\n"
     ]
    }
   ],
   "source": [
    "print(f\"The shape of X_train :{X_train.shape}\")\n",
    "print(f\"The shape of y_train :{y_train.shape}\")"
   ]
  },
  {
   "cell_type": "code",
   "execution_count": 4,
   "id": "23b5b14d",
   "metadata": {},
   "outputs": [
    {
     "data": {
      "text/plain": [
       "(-2.0, 6.0)"
      ]
     },
     "execution_count": 4,
     "metadata": {},
     "output_type": "execute_result"
    },
    {
     "data": {
      "image/png": "[encoded data removed]",
      "text/plain": [
       "<Figure size 432x288 with 1 Axes>"
      ]
     },
     "metadata": {
      "needs_background": "light"
     },
     "output_type": "display_data"
    }
   ],
   "source": [
    "## Visualizing our dataset\n",
    "plt.scatter(X_train,y_train,s=5,c='red',alpha=0.7)\n",
    "plt.xlim([-2,6])"
   ]
  },
  {
   "cell_type": "markdown",
   "id": "aa10d467",
   "metadata": {},
   "source": [
    "### Training our model\n",
    "We try to fit higher order polynomial for our model to see the effect of overfitting "
   ]
  },
  {
   "cell_type": "code",
   "execution_count": 5,
   "id": "070e9671",
   "metadata": {},
   "outputs": [
    {
     "name": "stdout",
     "output_type": "stream",
     "text": [
      "The shape of our the tranform X_train is (50, 16)\n",
      "The first 1 example our new X_train\n",
      "[[1.00000000e+00 5.04863561e+00 2.54887215e+01 1.28683267e+02\n",
      "  6.49674923e+02 3.27997195e+03 1.65593832e+04 8.36022915e+04\n",
      "  4.22077505e+05 2.13091552e+06 1.07582160e+07 5.43143123e+07\n",
      "  2.74213171e+08 1.38440238e+09 6.98934314e+09 3.52866466e+10]]\n"
     ]
    }
   ],
   "source": [
    "## Transform our input features into polynomial features of 15 degree\n",
    "poly_transformer =  PolynomialFeatures(15)\n",
    "X_train_new = poly_transformer.fit_transform(X_train)\n",
    "\n",
    "print(f\"The shape of our the tranform X_train is {X_train_new.shape}\")\n",
    "print(\"The first 1 example our new X_train\")\n",
    "print(X_train_new[:1])"
   ]
  },
  {
   "cell_type": "markdown",
   "id": "10c82b2c",
   "metadata": {},
   "source": [
    "### Fitting our model with 20th degree polynomial features"
   ]
  },
  {
   "cell_type": "code",
   "execution_count": 6,
   "id": "1197a419",
   "metadata": {},
   "outputs": [
    {
     "name": "stdout",
     "output_type": "stream",
     "text": [
      "Our model achieve a training score of: 0.9999870740328586\n"
     ]
    }
   ],
   "source": [
    "reg = LinearRegression()\n",
    "reg.fit(X_train_new,y_train)\n",
    "\n",
    "score = reg.score(X_train_new,y_train)\n",
    "print(f\"Our model achieve a training score of: {score}\")"
   ]
  },
  {
   "cell_type": "code",
   "execution_count": 7,
   "id": "d10223dd",
   "metadata": {},
   "outputs": [
    {
     "name": "stdout",
     "output_type": "stream",
     "text": [
      "Our model achieve a test score of :-2185.251806831839\n"
     ]
    }
   ],
   "source": [
    "## Testing our model\n",
    "X_test_new = poly_transformer.transform(X_test)\n",
    "test_score = reg.score(X_test_new,y_test)\n",
    "print(f\"Our model achieve a test score of :{test_score}\")"
   ]
  },
  {
   "cell_type": "markdown",
   "id": "11cd2f6b",
   "metadata": {},
   "source": [
    "### The effect of overfitting can be seen above as our model perform very great on the training set but peform poorly on the test set"
   ]
  },
  {
   "cell_type": "code",
   "execution_count": 8,
   "id": "e1245421",
   "metadata": {},
   "outputs": [],
   "source": [
    "def plot_20th_degree_function(reg):\n",
    "    x_lim=np.linspace(-3,8,10).reshape(-1,1)\n",
    "    y_lim =reg.predict(poly_transformer.transform(x_lim))\n",
    "    figure,ax= plt.subplots(figsize=(10,5))\n",
    "    ax.plot(x_lim,y_lim, linewidth=2, markersize=12)\n",
    "    plt.ylim([-2,150])\n",
    "    plt.xlim([-1,7])\n",
    "    ax.scatter(X,y,alpha=0.1,c='red',s=5,cmap='Gray')"
   ]
  },
  {
   "cell_type": "markdown",
   "id": "3ba638e6",
   "metadata": {},
   "source": [
    " Plotting the 20th degree polynomial against the entire dataset shows the poor performance of our model has it\n",
    " tries to fit a 20th degree polynomial against the 3rd degree polynomial."
   ]
  },
  {
   "cell_type": "code",
   "execution_count": 9,
   "id": "6e9aaf00",
   "metadata": {},
   "outputs": [
    {
     "data": {
      "image/png": "[encoded data removed]",
      "text/plain": [
       "<Figure size 720x360 with 1 Axes>"
      ]
     },
     "metadata": {
      "needs_background": "light"
     },
     "output_type": "display_data"
    }
   ],
   "source": [
    "plot_20th_degree_function(reg)"
   ]
  },
  {
   "cell_type": "markdown",
   "id": "7d9568c6",
   "metadata": {},
   "source": [
    "## Effect of increase in training data on Overfitting\n",
    "In these section we try to see the effect of adding more data to our training set"
   ]
  },
  {
   "cell_type": "code",
   "execution_count": 10,
   "id": "7e5c1c8a",
   "metadata": {},
   "outputs": [],
   "source": [
    "## Splitting our data into training and test set\n",
    "## The size of our training data has been increased from 50 to 800\n",
    "X_train_big,X_test_big,y_train_big,y_test_big = train_test_split(X,y,train_size=0.8) "
   ]
  },
  {
   "cell_type": "code",
   "execution_count": 11,
   "id": "f1470e49",
   "metadata": {},
   "outputs": [
    {
     "name": "stdout",
     "output_type": "stream",
     "text": [
      "The shape of X_train :(4000, 1)\n",
      "The shape of y_train :(4000, 1)\n"
     ]
    }
   ],
   "source": [
    "print(f\"The shape of X_train :{X_train_big.shape}\")\n",
    "print(f\"The shape of y_train :{y_train_big.shape}\")"
   ]
  },
  {
   "cell_type": "code",
   "execution_count": 12,
   "id": "0fba0222",
   "metadata": {},
   "outputs": [
    {
     "name": "stdout",
     "output_type": "stream",
     "text": [
      "Our model achieve a training score of: 1.000\n"
     ]
    }
   ],
   "source": [
    "## Fitting our model on the new training set\n",
    "X_train_big_new = poly_transformer.transform(X_train_big)\n",
    "reg.fit(X_train_big_new,y_train_big)\n",
    "train_score_big = reg.score(X_train_big_new,y_train_big)\n",
    "\n",
    "print(f\"Our model achieve a training score of: {train_score_big :.3f}\")"
   ]
  },
  {
   "cell_type": "code",
   "execution_count": 13,
   "id": "cf1de652",
   "metadata": {},
   "outputs": [
    {
     "name": "stdout",
     "output_type": "stream",
     "text": [
      "Our model achieve a test score of :1.000\n"
     ]
    }
   ],
   "source": [
    "## Testing our model\n",
    "X_test_big_new = poly_transformer.transform(X_test_big)\n",
    "test_score_big = reg.score(X_test_big_new,y_test_big)\n",
    "print(f\"Our model achieve a test score of :{test_score_big :.3f}\")"
   ]
  },
  {
   "cell_type": "code",
   "execution_count": 14,
   "id": "d639db48",
   "metadata": {},
   "outputs": [
    {
     "name": "stdout",
     "output_type": "stream",
     "text": [
      "Our model achieve a test score of :1.000 on training size 4000\n"
     ]
    }
   ],
   "source": [
    "print(f\"Our model achieve a test score of :{test_score_big :.3f} on training size {X_train_big.shape[0]}\")"
   ]
  },
  {
   "cell_type": "markdown",
   "id": "fe2c4783",
   "metadata": {},
   "source": [
    "### Increasing our size of our training set even if we are fitting a more complex model has an effect of reducing the score on the test set.\n",
    "You can try changing the size of the training set and see the effect on the test score\n"
   ]
  }
 ],
 "metadata": {
  "kernelspec": {
   "display_name": "Python 3 (ipykernel)",
   "language": "python",
   "name": "python3"
  },
  "language_info": {
   "codemirror_mode": {
    "name": "ipython",
    "version": 3
   },
   "file_extension": ".py",
   "mimetype": "text/x-python",
   "name": "python",
   "nbconvert_exporter": "python",
   "pygments_lexer": "ipython3",
   "version": "3.9.7"
  }
 },
 "nbformat": 4,
 "nbformat_minor": 5
}
