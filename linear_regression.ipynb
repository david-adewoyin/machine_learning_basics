{
 "cells": [
  {
   "cell_type": "markdown",
   "id": "9e109994",
   "metadata": {},
   "source": [
    "## Linear Regression\n",
    "### Python Implementation of Linear Regression from scratch\n",
    "In [Linear Regression](https://en.wikipedia.org/wiki/Linear_regression) we try to model the relationship between a **scalar dependent variable** *y*  and one or more **independent variables (explanatory variables) x** .In the case of only one independent variable, then it's known as a **simple regression** or **univariate regression** with more than one independent variables being referred to as **multiple linear regression.**.\n",
    "\n",
    "### Notation and Definitions:  \n",
    "- $y:   $    target value. \n",
    "- $\\boldsymbol{x}:   $    independent (explanatory) variable also known as the input variable or feature.\n",
    "- $\\alpha:$ is the learning rate which determmines the step size at each iteration\n",
    "- $\\boldsymbol{w},b :   $ are the parameters of the algorithm\n",
    "- $f_{\\boldsymbol{w},b}(x^{(i)}):  $ is our prediction for example $i$ using parameters $\\boldsymbol{w},b$.\n",
    "- $\\boldsymbol{D} = \\{{\\boldsymbol{(x^{(1)}},y^{(1)})},...,\\boldsymbol{(x^{(n)}},y^{(n)})\\}$: is the set of n training examples, where:\n",
    "    - $\\boldsymbol{(x^{(i)}}) $ is the $d$ dimensional input vector ;being the feature vector consisting of$ (x_1,x_2, ...x_d)$ of the training example $\\boldsymbol{i}$ \n",
    "    - $y^{(i)}$ is the desired output value for that input vector\n",
    "- $(\\boldsymbol{x^{(i)}},y^{(i)})$: an instance of a training example.\n",
    "\n",
    "### The linear equation **y = wx +b**  \n",
    "The linear equation defines how you fit a straight that models the relationship between y and x, where y is represented as a linear combination of the coefficients of w and x.  \n",
    "<img src=\"images/linear-relationship.png\" width=\"350px\" alt='linear regression model'>\n",
    "\n",
    "\n",
    "**where:**   \n",
    "**w** represent the slope of the line and  \n",
    "**b:** representing the value of the y-intercept where the line crosses the y-axis when x = 0\n",
    "\n",
    "Our objective in using linear regression is to find the set of coefficients w's and b that best fit the line i.e that minimizes the distances of every points from the line the most.\n",
    "### Training \n",
    "In training the linear regression, we use the mean squared error (MSE) as the cost function, which measures the average of the squares of the errors—that is, the average squared difference between the estimated values and the actual value.Using the MSE as a cost function guarantee there will always be an optimal solution to the problem.  \n",
    "Linear Regression model can be trained using :  \n",
    "- Gradient Descent or\n",
    "- The normal equation (closed form solution) having the form $ \\boldsymbol{w}=(X^{T}X)^{-1}X^Ty $    \n",
    "Where $\\boldsymbol{X}$ is the matrix of all the input features of the training examples.\n",
    "\n",
    "#### Gradient Descent Algorithm\n",
    "\n",
    "- Given a set of training examples ${(x^{(n)},y^{(n)})}$: the goal of gradient descent is to minimize the cost function given below through an iterative process\n",
    "\n",
    "$$\n",
    "J(w,b)=\\frac{1}{2m} \\sum\\limits_{i=0}^{m-1}=(f_{w,b}(x^{(i)}) - y^{(i)})^2 \n",
    "$$ \n",
    "\n",
    "1. Start with some w,b\n",
    "2. change w,b to reduce J(w,b)\n",
    "3. Repeat untill we settle or converge to a minimum value    \n",
    "We reduce J(w,b) by computing the gradient of the cost function J(w,b) and taking steps in the direction of steppest descent untill we converge to a minimum value.     \n",
    "----\n",
    "- **Step 0:** Initialize w,b to some initial value, where for multiple regression w is a vector \n",
    "#### Until Converge:  \n",
    "- **Step 1:** compute the gradient of $\\boldsymbol{w}$ and b which is given below:\n",
    "\n",
    "$$ \n",
    "\\frac{\\partial}{\\partial w}J(w,b) = \\frac{1}{m}\\sum\\limits_{i=0}^{m-1}= (f_{w,b}(x^{(i)}) - y^{(i)})\\boldsymbol{x^{(i)}} \\tag{1}\n",
    "$$\n",
    "$$\\frac{\\partial}{\\partial b}J(w,b) = \\frac{1}{m}\\sum\\limits_{i=0}^{m-1}= (f_{w,b}(x^{(i)}) - y^{(i)}) \\tag{2}$$\n",
    "- Step 2:Set the new value of w has:\n",
    "$$ w = w - \\alpha \\frac{\\partial}{\\partial w}J(w,b) \\tag{3} $$\n",
    "- and the new value of b has:\n",
    "$$ b = b - \\alpha \\frac{\\partial}{\\partial b}J(w,b) \\tag{4} $$\n",
    "\n",
    "- Step 3: Repeat the procedure again untill we converge to some minimum value or run out of interations\n",
    "---  \n",
    "\n",
    "   <p  class='alert alert-info alert-box'>Note:<br>alpha is the learning rate which determines how long the step we take during gradient descent, which smaller values resulting in gradient descent converging too slowly and larger values resulting in onvershooting and causing our model to never converge</p> \n",
    " \n"
   ]
  },
  {
   "cell_type": "code",
   "execution_count": 1,
   "id": "a7ff1a3a",
   "metadata": {},
   "outputs": [],
   "source": [
    "## Importing required modules\n",
    "import numpy as np\n",
    "from sklearn.datasets import make_regression\n",
    "from sklearn.model_selection import train_test_split\n",
    "from sklearn.metrics import mean_squared_error\n",
    "import matplotlib.pyplot as plt\n",
    "\n",
    "np.random.seed(126)"
   ]
  },
  {
   "cell_type": "code",
   "execution_count": 2,
   "id": "98196b59",
   "metadata": {},
   "outputs": [],
   "source": [
    "## Creating a simple training set\n",
    "X,y=make_regression(1000,n_features=5,noise=5)"
   ]
  },
  {
   "cell_type": "code",
   "execution_count": 3,
   "id": "65465487",
   "metadata": {},
   "outputs": [],
   "source": [
    "## Split the data into train and test set\n",
    "X_train,X_test,y_train,y_test=train_test_split(X,y,test_size=0.3)"
   ]
  },
  {
   "cell_type": "code",
   "execution_count": 4,
   "id": "67b76e10",
   "metadata": {},
   "outputs": [
    {
     "name": "stdout",
     "output_type": "stream",
     "text": [
      " the shape of X_train is (700, 5)\n"
     ]
    }
   ],
   "source": [
    "# X_train has 5 features and 700 examples\n",
    "print(f\" the shape of X_train is {X_train.shape}\")"
   ]
  },
  {
   "cell_type": "code",
   "execution_count": 5,
   "id": "c9e7abe7",
   "metadata": {},
   "outputs": [
    {
     "data": {
      "text/plain": [
       "<matplotlib.collections.PathCollection at 0x7f614d05b0a0>"
      ]
     },
     "execution_count": 5,
     "metadata": {},
     "output_type": "execute_result"
    },
    {
     "data": {
      "image/png": "[encoded data removed]",
      "text/plain": [
       "<Figure size 504x360 with 1 Axes>"
      ]
     },
     "metadata": {
      "needs_background": "light"
     },
     "output_type": "display_data"
    }
   ],
   "source": [
    "# Visualizing y_train against the first feature of X_train\n",
    "fig=plt.figure(figsize=(7,5))\n",
    "plt.title(\"Dataset\")\n",
    "plt.xlabel(\"First feature\")\n",
    "plt.ylabel(\"Target value\")\n",
    "plt.scatter(X_train[:,0],y_train)"
   ]
  },
  {
   "cell_type": "code",
   "execution_count": 6,
   "id": "a7426418",
   "metadata": {},
   "outputs": [],
   "source": [
    "class LinearRegression:\n",
    "    \n",
    "    \n",
    "    def predict(self,X):\n",
    "        return np.dot(self.w,X.T) + self.b\n",
    "    \n",
    "    def train_normal_equation(self,X,y):\n",
    "        \"\"\"\n",
    "        Trains the model using the closed form solution\n",
    "        \"\"\"\n",
    "        self.w = np.dot(np.dot(np.linalg.inv(np.dot(X.T,X)),X.T),y)\n",
    "        self.b = 0\n",
    "        \n",
    "    def train_gradient_descent(self,X,y,learning_rate= 0.001,n_iter=10000):\n",
    "        \"\"\"\n",
    "        Trains a linear model using gradient descent\n",
    "        \"\"\"\n",
    "        m_rows,n_features  = X.shape # (number of examples, number of features )\n",
    "\n",
    "        ## initialize  the set of weights and bias to some random value\n",
    "        self.w =np.zeros((n_features,))\n",
    "        self.b = 0\n",
    "        costs= []\n",
    "        \n",
    "        for i in range(n_iter):\n",
    "            dj_dw,dj_db = self.gradient(X,y)\n",
    "            self.w = self.w -  learning_rate * dj_dw\n",
    "            self.b = self.b -  learning_rate * dj_db\n",
    "            \n",
    "            y_hat= np.dot(self.w,X.T) + self.b\n",
    "            cost =self.cost_function(y_hat,y)\n",
    "            costs.append(cost)\n",
    "            \n",
    "            if i % 500 == 0: # print out the value of our costs function at every 500 iterations\n",
    "                print(f\"Cost as iteration {i}: {cost}\")\n",
    "        \n",
    "    def gradient(self,X,y):\n",
    "        m_rows,n_features  = X.shape # (number of examples, number of features )\n",
    "        dj_dw = np.zeros((n_features,))\n",
    "        dj_db = 0\n",
    "        \n",
    "        err = (np.dot(self.w,X.T) + self.b) - y\n",
    "        for i in range(n_features):\n",
    "            dj_dw[i] = np.sum( err * X[:,i])\n",
    "        dj_db = np.sum(err)\n",
    "        \n",
    "        dj_dw = dj_dw/ m_rows\n",
    "        dj_db = dj_db/ m_rows\n",
    "        \n",
    "        return (dj_dw,dj_db)\n",
    "           \n",
    "    def cost_function(self,y_hat,y):\n",
    "        n = y.shape[0]\n",
    "        rss= (y_hat - y)**2\n",
    "        return np.sum(rss)/(2*n)"
   ]
  },
  {
   "cell_type": "markdown",
   "id": "70de0ea1",
   "metadata": {},
   "source": [
    "## Training our Model with gradient descent"
   ]
  },
  {
   "cell_type": "code",
   "execution_count": 7,
   "id": "eeaccd2d",
   "metadata": {},
   "outputs": [
    {
     "name": "stdout",
     "output_type": "stream",
     "text": [
      "Cost as iteration 0: 8754.221465964298\n",
      "Cost as iteration 500: 3326.0993391387497\n",
      "Cost as iteration 1000: 1292.2489536882194\n",
      "Cost as iteration 1500: 514.9911511178583\n",
      "Cost as iteration 2000: 212.76047134944753\n",
      "Cost as iteration 2500: 93.49165684561544\n",
      "Cost as iteration 3000: 45.84268601587125\n",
      "Cost as iteration 3500: 26.614316181749953\n",
      "Cost as iteration 4000: 18.791724008602465\n",
      "Cost as iteration 4500: 15.588587278272641\n",
      "Cost as iteration 5000: 14.27019034096991\n",
      "Cost as iteration 5500: 13.72530140259071\n",
      "Cost as iteration 6000: 13.499356264273956\n",
      "Cost as iteration 6500: 13.405415983387567\n",
      "Cost as iteration 7000: 13.366274488510857\n",
      "Cost as iteration 7500: 13.34993678385371\n",
      "Cost as iteration 8000: 13.343107399166648\n",
      "Cost as iteration 8500: 13.340249107524022\n",
      "Cost as iteration 9000: 13.339051580362126\n",
      "Cost as iteration 9500: 13.338549406347468\n"
     ]
    }
   ],
   "source": [
    "reg = LinearRegression()\n",
    "reg.train_gradient_descent(X_train,y_train)"
   ]
  },
  {
   "cell_type": "markdown",
   "id": "bb30d556",
   "metadata": {},
   "source": [
    "## Testing our Model"
   ]
  },
  {
   "cell_type": "code",
   "execution_count": 8,
   "id": "406d7fb0",
   "metadata": {},
   "outputs": [
    {
     "name": "stdout",
     "output_type": "stream",
     "text": [
      "Our training error is :26.676677847995432\n",
      "Our testing error is :24.616849652268446\n"
     ]
    }
   ],
   "source": [
    "train_pred=reg.predict(X_train)\n",
    "train_error= mean_squared_error(train_pred,y_train)\n",
    "\n",
    "test_pred = reg.predict(X_test)\n",
    "test_error = mean_squared_error(test_pred,y_test)\n",
    "print(f\"Our training error is :{train_error}\")\n",
    "print(f\"Our testing error is :{test_error}\")"
   ]
  },
  {
   "cell_type": "markdown",
   "id": "92a80ae0",
   "metadata": {},
   "source": [
    "### Our model achieve a lower error on the test set"
   ]
  },
  {
   "cell_type": "markdown",
   "id": "ddb7d785",
   "metadata": {},
   "source": [
    "## Training our model using the normal equation"
   ]
  },
  {
   "cell_type": "code",
   "execution_count": 9,
   "id": "737c4f8c",
   "metadata": {},
   "outputs": [],
   "source": [
    "model = LinearRegression()\n",
    "model.train_normal_equation(X_train,y_train)"
   ]
  },
  {
   "cell_type": "markdown",
   "id": "28b2f745",
   "metadata": {},
   "source": [
    "## Testing our model"
   ]
  },
  {
   "cell_type": "code",
   "execution_count": 16,
   "id": "62e40a4f",
   "metadata": {},
   "outputs": [
    {
     "name": "stdout",
     "output_type": "stream",
     "text": [
      "Our training error is :26.773911759612083\n",
      "Our testing error is :24.180259597607233\n"
     ]
    }
   ],
   "source": [
    "tr_pred=model.predict(X_train)\n",
    "tr_error = mean_squared_error(tr_pred,y_train)\n",
    "\n",
    "te_pred=model.predict(X_test)\n",
    "te_error = mean_squared_error(te_pred,y_test)\n",
    "\n",
    "print(f\"Our training error is :{tr_error}\")\n",
    "print(f\"Our testing error is :{te_error}\")"
   ]
  },
  {
   "cell_type": "code",
   "execution_count": null,
   "id": "8dcb66f9",
   "metadata": {},
   "outputs": [],
   "source": []
  }
 ],
 "metadata": {
  "kernelspec": {
   "display_name": "Python 3 (ipykernel)",
   "language": "python",
   "name": "python3"
  },
  "language_info": {
   "codemirror_mode": {
    "name": "ipython",
    "version": 3
   },
   "file_extension": ".py",
   "mimetype": "text/x-python",
   "name": "python",
   "nbconvert_exporter": "python",
   "pygments_lexer": "ipython3",
   "version": "3.9.7"
  }
 },
 "nbformat": 4,
 "nbformat_minor": 5
}
