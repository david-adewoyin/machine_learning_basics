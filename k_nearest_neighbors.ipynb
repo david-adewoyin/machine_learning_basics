{
 "cells": [
  {
   "cell_type": "markdown",
   "id": "b8c96f2c",
   "metadata": {},
   "source": [
    "## K Nearest Neighbors\n",
    "### Python Implementation of the K Nearest Neighbors Algorithm from scratch\n",
    "The [K-Nearest Neighbors](https://en.wikipedia.org/wiki/K-nearest_neighbors_algorithm) is a **supervised** machine learning algorithm that can be used for both classification and regression problems. Given a set of training examples, the model tries to predict the output or label of a new set of data by comparing its **similarity** to the training examples.\n",
    "\n",
    "The KNN model is an **instance based** algorithm that stores all of the training examples in memory and compares how similar the new dataset is to all of the training examples before returning the target label of the most similar training example(s). It measures the similarity through a distance algorithm such as the [**Euclidean distance**](https://en.wikipedia.org/wiki/Euclidean_distance).\n",
    "\n",
    "\n",
    "The KNN algorithm can be configured through the **n_neighbors** parameter, by which it chooses the number of neighbors it uses to make predictions. It returns the average value of the n neighbors it is mostly similar too,  in the case of a regression problem or for a classification problem, it returns the label that has the highest vote among the n neighbors. \n",
    "\n",
    "### Notation and Definitions:  \n",
    "- $y:   $    target value or class. \n",
    "- $\\boldsymbol{x}:   $    independent (explanatory) variable also known as the input variable or feature.\n",
    "- $\\boldsymbol{k}:$Parameter that determines the numbers of neighbors to use for the algorithm\n",
    "- $y^{(hat)}:  $ is our predicted value or class\n",
    "- $\\boldsymbol{D} = \\{{\\boldsymbol{(x^{(1)}},y^{(1)})},...,\\boldsymbol{(x^{(n)}},y^{(n)})\\} $: is the set of n training examples, where:\n",
    "    - $\\boldsymbol{(x^{(i)}}) $ is the $d$ dimensional input vector ;being the feature vector consisting of$ (x_1,x_2, ...x_d)$ of the training example $\\boldsymbol{i}$ \n",
    "    - $y^{(i)}$ is the desired target value or class for that input vector\n",
    "- $(\\boldsymbol{x^{(i)}},y^{(i)})$:an instance of a training example.\n",
    "\n",
    "\n",
    "### Regression Problem:\n",
    "- Given a set of training examples **(x<sub>n</sub> , y<sub>n</sub>)**, and a new input dataset **x_new**, the model predicts the value of **x_new** by first computing the Euclidean distances between **x_new** and every other **x** in the training examples and returns the average score of the k nearest neighbors with the shortest distance from **x_new**.  \n",
    "- A weighted version of the KNN algorithm also exists where it computes the weighted average of its nearest neighbors, with examples near x_new given a higher weight than the rest of it ks neighbors. A common approach is to give each neighbor a weight of 1/d, where d is the distance to the **x_new**.\n",
    "\n",
    "### Classification Problem:\n",
    "- The classification problem is similar to the regression problem , excepts it returns the label with the majority of votes among the  neighbors.\n",
    "\n",
    "**Note** :  \n",
    " 1. Since the algorithm relies on distance for classification, numeric features with different scales may require the training examples to be normalized for accuracy to improve.  \n",
    " 2. KNN algorithm is also computationally and storage inefficent for large datasets since it keeps the training examples in memory.  \n",
    " 3. KNN is particularly robust against outliers and serves as a good baseline for comparing the performance of other models.  \n",
    "<br><br>\n",
    "<figure style=\"margin-left:auto;margin-right:auto;text-align:center\">\n",
    "    <img src= \"images/instance_based_learning.png\" width=\"500\" style=\" margin-left=auto;margin-right=auto;display=block;\"/> <br>\n",
    "       <cite style='text-align:center'>Hands-on Machine Learning with Scikit-Learn, Keras, andTensorFlow</cite><br>\n",
    "    </figure>\n",
    "\n",
    "Below we implement the K Nearest Neighbors in Python from scratch"
   ]
  },
  {
   "cell_type": "code",
   "execution_count": 1,
   "id": "8aef6107",
   "metadata": {},
   "outputs": [],
   "source": [
    "import numpy as np\n",
    "import matplotlib.pyplot as plt\n",
    "from sklearn.datasets import load_iris\n",
    "from sklearn.model_selection import train_test_split\n",
    "import seaborn as sns\n",
    "\n",
    "np.random.seed(150)\n",
    "sns.set_style(\"whitegrid\")\n",
    "sns.set_palette(\"colorblind\")"
   ]
  },
  {
   "cell_type": "markdown",
   "id": "6f85264e",
   "metadata": {},
   "source": [
    "### Datasets"
   ]
  },
  {
   "cell_type": "code",
   "execution_count": 2,
   "id": "f53bc0fe",
   "metadata": {
    "scrolled": true
   },
   "outputs": [
    {
     "name": "stdout",
     "output_type": "stream",
     "text": [
      "X shape : (150, 4)\n",
      "The features of the datasets: ['sepal length (cm)', 'sepal width (cm)', 'petal length (cm)', 'petal width (cm)']\n",
      "The species of the iris datasets to classify :['setosa' 'versicolor' 'virginica']\n"
     ]
    }
   ],
   "source": [
    "## We are going to use the popular iris datasets consisting of 150 training examples and four features\n",
    "## the goal of this algorithm is to classify the four(4) species of the iris flower given a set of input features\n",
    "\n",
    "iris = load_iris()\n",
    "X,y=iris.data,iris.target\n",
    "\n",
    "print(f\"X shape : {X.shape}\") # We have 150 training examples consisting of 4 input features each\n",
    "print(f\"The features of the datasets: {iris.feature_names}\")\n",
    "print(f\"The species of the iris datasets to classify :{iris.target_names}\")"
   ]
  },
  {
   "cell_type": "code",
   "execution_count": 3,
   "id": "bf8f5c6e",
   "metadata": {},
   "outputs": [
    {
     "name": "stdout",
     "output_type": "stream",
     "text": [
      "X_train shape: (105, 4)\n",
      "X_test shape:(45, 4)\n"
     ]
    }
   ],
   "source": [
    "## We split the data in order to be able to test the accuracy of our model\n",
    "## Instance based algorithms such has KNN achieve an almost 100% accuracy on the training data therefore a test \n",
    "# set is set aside in order to access the accuracy of our model\n",
    "\n",
    "X_train,X_test,y_train,y_test=train_test_split(X,y,test_size=0.3) \n",
    "print(f\"X_train shape: {X_train.shape}\")\n",
    "print(f\"X_test shape:{X_test.shape}\")"
   ]
  },
  {
   "cell_type": "code",
   "execution_count": 4,
   "id": "cf7051e5",
   "metadata": {},
   "outputs": [
    {
     "data": {
      "text/plain": [
       "<matplotlib.legend.Legend at 0x7f8e26208700>"
      ]
     },
     "execution_count": 4,
     "metadata": {},
     "output_type": "execute_result"
    },
    {
     "data": {
      "image/png": "[encoded data removed]",
      "text/plain": [
       "<Figure size 576x432 with 1 Axes>"
      ]
     },
     "metadata": {},
     "output_type": "display_data"
    }
   ],
   "source": [
    "fig,ax=plt.subplots(figsize=(8,6))\n",
    "\n",
    "## plotting the Sepal length against Sepal width of each examples\n",
    "sns.scatterplot(x=X_train[:,0],y=X_train[:,1],hue=y_train,style=y_train,palette='colorblind')\n",
    "\n",
    "plt.xlabel(\"Sepal length (cm)\")\n",
    "plt.ylabel(\"Sepal width (cm)\")\n",
    "plt.title(\"Sepal length vs Sepal width \")\n",
    "plt.legend(iris.target_names)"
   ]
  },
  {
   "cell_type": "markdown",
   "id": "e6d7c94b",
   "metadata": {},
   "source": [
    "## K Nearest Neighbors"
   ]
  },
  {
   "cell_type": "code",
   "execution_count": 6,
   "id": "bd6ad689",
   "metadata": {},
   "outputs": [],
   "source": [
    "class KNeighbors:\n",
    "    def __init__(self,n_neighbors = 1):\n",
    "        self.n_neighbors = n_neighbors ## set the number of k neighbors needed to make a prediction\n",
    "        \n",
    "    def fit(self,X,y): \n",
    "        # fit does no computation except to serve the value of X and y in memory\n",
    "        self.data  = X\n",
    "        self.target = y\n",
    "    \n",
    "    def predict(self,X):\n",
    "        dist = self._euclidean_distance(X)\n",
    "        indices = np.argsort(dist)[:,:self.n_neighbors]\n",
    "        pred = np.max(self.target[indices],axis = 1)\n",
    "        return pred\n",
    "    \n",
    "    def _euclidean_distance(self,X):\n",
    "        # Calculate the euclidean distance between the set of new data points and the training examples\n",
    "        k = X.shape[0]\n",
    "        distances = np.array([np.sqrt(np.sum((X[i]-self.data)**2, axis= 1)) for i in range(k)])\n",
    "        return distances\n",
    "    \n",
    "    def __repr__(self):\n",
    "        return f\"KNeighbors(n_neighbors={self.n_neighbors})\"\n"
   ]
  },
  {
   "cell_type": "markdown",
   "id": "1bf119bb",
   "metadata": {},
   "source": [
    "## Training our model "
   ]
  },
  {
   "cell_type": "code",
   "execution_count": 7,
   "id": "cd108c09",
   "metadata": {},
   "outputs": [
    {
     "name": "stdout",
     "output_type": "stream",
     "text": [
      "with n_neighbors = 1,\n",
      "accuracy on the training set: 0.9619047619047619\n"
     ]
    }
   ],
   "source": [
    "## Instantializing our knn neighbors with n_neighbors set to 1\n",
    "knn=KNeighbors(n_neighbors=3)\n",
    "knn.fit(X_train,y_train)\n",
    "y_pred_train= knn.predict(X_train)\n",
    "\n",
    "##calculating the accuracy of our model on the training set with n_neighbors =  1\n",
    "acc_train=np.sum(y_pred_train==y_train)/len(y_train)\n",
    "\n",
    "print(\"with n_neighbors = 1,\")\n",
    "print(f\"accuracy on the training set: {acc_train}\")"
   ]
  },
  {
   "cell_type": "markdown",
   "id": "9832fa26",
   "metadata": {},
   "source": [
    "## Testing our model"
   ]
  },
  {
   "cell_type": "code",
   "execution_count": 8,
   "id": "f911db0a",
   "metadata": {},
   "outputs": [
    {
     "name": "stdout",
     "output_type": "stream",
     "text": [
      "with n_neighbors = 1,\n",
      "accuracy on the testing set: 0.956\n"
     ]
    }
   ],
   "source": [
    "## calling predict on the test set\n",
    "y_pred_test=knn.predict(X_test)\n",
    "\n",
    "## calculating the accuracy our model \n",
    "acc_test=np.sum(y_pred_test==y_test)/len(y_test)\n",
    "print(\"with n_neighbors = 1,\")\n",
    "print(f\"accuracy on the testing set: {acc_test:.3f}\")"
   ]
  },
  {
   "cell_type": "markdown",
   "id": "75579ae1",
   "metadata": {},
   "source": [
    "## Training and testing our model with different amount of neighbors"
   ]
  },
  {
   "cell_type": "code",
   "execution_count": 9,
   "id": "504d8824",
   "metadata": {},
   "outputs": [
    {
     "data": {
      "text/plain": [
       "Text(0.5, 1.0, 'Accuracy vs Number of Neighbors')"
      ]
     },
     "execution_count": 9,
     "metadata": {},
     "output_type": "execute_result"
    },
    {
     "data": {
      "image/png": "[encoded data removed]",
      "text/plain": [
       "<Figure size 432x288 with 1 Axes>"
      ]
     },
     "metadata": {},
     "output_type": "display_data"
    }
   ],
   "source": [
    "n_neighbors=np.arange(1,20)\n",
    "\n",
    "accs=[]\n",
    "for n in n_neighbors:\n",
    "    knn= KNeighbors(n_neighbors=n)\n",
    "    knn.fit(X_train,y_train)\n",
    "    y_pred=knn.predict(X_train)\n",
    "    ac=np.sum(y_pred==y_train)/len(y_train)\n",
    "    accs.append(ac)\n",
    "\n",
    "## We plot a graph of accuracy against the number of neighbors\n",
    "plt.plot(n_neighbors,accs) \n",
    "plt.xlabel(\"n_neighbors\")\n",
    "plt.ylabel(\"accuracy\")\n",
    "plt.title(\"Accuracy vs Number of Neighbors\")"
   ]
  },
  {
   "cell_type": "markdown",
   "id": "cdd32489",
   "metadata": {},
   "source": [
    "From the graph above, we see that the accuracy of our model decreases as the number of n_neighbors increases leading to overfitting of data"
   ]
  }
 ],
 "metadata": {
  "kernelspec": {
   "display_name": "Python 3 (ipykernel)",
   "language": "python",
   "name": "python3"
  },
  "language_info": {
   "codemirror_mode": {
    "name": "ipython",
    "version": 3
   },
   "file_extension": ".py",
   "mimetype": "text/x-python",
   "name": "python",
   "nbconvert_exporter": "python",
   "pygments_lexer": "ipython3",
   "version": "3.9.7"
  }
 },
 "nbformat": 4,
 "nbformat_minor": 5
}
