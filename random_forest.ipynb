{
 "cells": [
  {
   "cell_type": "markdown",
   "id": "42e638a1",
   "metadata": {},
   "source": [
    "<a href=\"https://colab.research.google.com/github/david-adewoyin/machine_learning_basics/blob/main/random_forest.ipynb\" target=\"_parent\"><img src=\"https://colab.research.google.com/assets/colab-badge.svg\" alt=\"Open In Colab\"/></a>\n",
    "\n",
    "## Random Forest\n",
    "**Random Forest** is a tree ensemble where we try to provide an improvement over bagging trees by decorrelates the trees.\n",
    "\n",
    "Similar to bagging, we build a number of decision trees on boostrapped training samples, but each time a split is considered ,a random sample of **m features** is chosen as candidates to choose from, and a fresh set of m features is taken at each split, typically we choose $m \\approx \\sqrt{p}$.\n",
    "\n",
    "The idea being by considering a random subset of features at each split time, we can reduce the correlation of the trees, for example if a feature is a strong predictor in the dataset along with a few others, most if not all of the trees in the bagging ensemble will use the feature in the top split and thereby have a similar look to each other.\n",
    "\n",
    "Random forests overcome this problem by forcing each split to consider only a subset of the predictors will result in the overall variance being reduced.  \n",
    "\n",
    "\n",
    "<img src='images/random-forest.svg'>"
   ]
  },
  {
   "cell_type": "code",
   "execution_count": 24,
   "id": "ef44d3d5",
   "metadata": {},
   "outputs": [],
   "source": [
    "# Importing our dataset\n",
    "import numpy as np\n",
    "import pandas as pd\n",
    "\n",
    "from sklearn.metrics import accuracy_score\n",
    "from sklearn.model_selection import train_test_split\n",
    "from sklearn.datasets import load_iris\n",
    "from collections import Counter\n",
    "from scipy import stats\n",
    "\n",
    "import seaborn as sns\n",
    "\n",
    "np.random.seed(150)\n",
    "sns.set_style(\"whitegrid\")\n",
    "sns.set_palette(\"colorblind\")"
   ]
  },
  {
   "cell_type": "markdown",
   "id": "37c7022d",
   "metadata": {},
   "source": [
    "## Importing our dataset\n",
    "We are going to be using the iris dataset included with sklearn"
   ]
  },
  {
   "cell_type": "code",
   "execution_count": 29,
   "id": "4881d653",
   "metadata": {},
   "outputs": [
    {
     "name": "stdout",
     "output_type": "stream",
     "text": [
      "X shape : (150, 4)\n"
     ]
    }
   ],
   "source": [
    "data  = load_iris()\n",
    "X,y = data['data'],data['target']\n",
    "\n",
    "print(f\"X shape : {X.shape}\")"
   ]
  },
  {
   "cell_type": "code",
   "execution_count": 32,
   "id": "2c52d7ee",
   "metadata": {},
   "outputs": [
    {
     "name": "stdout",
     "output_type": "stream",
     "text": [
      "X_train shape: (120, 4)\n",
      "X_test shape:(30, 4)\n"
     ]
    },
    {
     "data": {
      "text/plain": [
       "<AxesSubplot:>"
      ]
     },
     "execution_count": 32,
     "metadata": {},
     "output_type": "execute_result"
    },
    {
     "data": {
      "image/png": "[encoded data removed]",
      "text/plain": [
       "<Figure size 432x288 with 1 Axes>"
      ]
     },
     "metadata": {},
     "output_type": "display_data"
    }
   ],
   "source": [
    "## Splitting the dataset into train and test set\n",
    "X_train,X_test,y_train,y_test = train_test_split(X,y,test_size=0.2)\n",
    "\n",
    "print(f\"X_train shape: {X_train.shape}\")\n",
    "print(f\"X_test shape:{X_test.shape}\")\n",
    "\n",
    "sns.scatterplot(x=X_train[:,0], y = X_train[:,1],hue=y_train,style=y_train,palette='colorblind')"
   ]
  },
  {
   "cell_type": "markdown",
   "id": "2a8ae8a0",
   "metadata": {},
   "source": [
    "## Random Forest"
   ]
  },
  {
   "cell_type": "code",
   "execution_count": 33,
   "id": "84cfbe65",
   "metadata": {},
   "outputs": [],
   "source": [
    "class Node:\n",
    "    \"\"\"\n",
    "    A node is a pointer to other nodes which together makes up a tree\n",
    "    Leaf node does not have a pointer but contains value which represent the label\n",
    "    \"\"\"\n",
    "    \n",
    "    def __init__(self,feature=None,left=None, right=None, threshold=None, value=None):\n",
    "        self.left = left\n",
    "        self.right = right\n",
    "        self.threshold = threshold  # threshold to divide element into left or right sub nodes\n",
    "        self.feature =feature\n",
    "        self.value = value\n",
    "        \n",
    "    def is_leaf_node(self):\n",
    "        return self.value is not None"
   ]
  },
  {
   "cell_type": "code",
   "execution_count": 221,
   "id": "e6ec64c6",
   "metadata": {},
   "outputs": [],
   "source": [
    "class RandomForest:\n",
    "    def __init__(self, min_samples_split = 3, max_depth=10,max_samples=1.0,\n",
    "                 min_samples_leaf = 1,\n",
    "                 n_trees=10,num_of_features_to_split=None):\n",
    "        \n",
    "            self.min_samples_leaf = min_samples_leaf # amount of samples that must at least  be in each split\n",
    "            self.min_samples_split = min_samples_split\n",
    "            self.max_depth = max_depth\n",
    "            self.n_trees = n_trees\n",
    "            self.max_samples = max_samples ## size of the boostrap samples\n",
    "            \n",
    "            self.num_of_features_to_split = num_of_features_to_split\n",
    "            self.trees = list(range(n_trees))\n",
    "            \n",
    "    def fit(self,X,y):\n",
    "        m,n_features = X.shape\n",
    "\n",
    "        if self.num_of_features_to_split == None:\n",
    "            ## use the square root of the the total number of featues is not set\n",
    "            self.num_of_features_to_split = np.ceil(np.sqrt(n_features)).astype(np.int64)\n",
    "        else:\n",
    "            # makes sure the num of features is not greather than the total number of features\n",
    "            self.num_of_features_to_split = min(self.num_of_features_to_split,n_features)\n",
    "            \n",
    "        # to help work with pandas\n",
    "        if isinstance(X, np.ndarray):\n",
    "            self._build_tree_ensemble(X,y)\n",
    "            return \n",
    "        self._build_tree_ensemble(X.values,y.values)\n",
    "    \n",
    "    def _build_tree_ensemble(self,X,y):\n",
    "        for i in range(self.n_trees):\n",
    "            bootstrap_X, bootstrap_y = self._bootstrap_sample(X,y)\n",
    "            self.trees[i] = self._build_tree(bootstrap_X,bootstrap_y)  \n",
    "            \n",
    "    def _bootstrap_sample(self,X,y):\n",
    "        # bootstrap samples from dataset\n",
    "        sample = list()\n",
    "        m_rows,_ = X.shape\n",
    "        n_samples = round(m_rows * self.max_samples)\n",
    "        indices = np.random.default_rng().choice(m_rows,n_samples,replace=True) # boostrap sample from dataset\n",
    "        return X[indices], y[indices]\n",
    "        \n",
    "        \n",
    "    def _build_tree(self, X, y, depth = 0):\n",
    "        n_samples,n_features = X.shape\n",
    "       \n",
    "        n_labels = len(np.unique(y)) # check if the current node contains element of only 1 class\n",
    "        \n",
    "        ## Stopping Criteria to determine when to stop builing our tree\n",
    "        if (depth >= self.max_depth \n",
    "            or n_samples <= self.min_samples_split\n",
    "           or n_labels <= 1 ):\n",
    "            #find value for the leaf node\n",
    "            leaf_value = self._voted_label(y)\n",
    "            return Node(value = leaf_value)\n",
    "        \n",
    "        # randomly choose a subset of the features to split on\n",
    "        feat_idx = np.random.default_rng(110).choice(n_features,size=self.num_of_features_to_split,replace = False)\n",
    "        feature,thresh = self._find_best_split(X,y,feat_idx)\n",
    "\n",
    "        \n",
    "        X_column = X[:,feature]\n",
    "        left_in,right_in = self._split_dataset(X_column, thresh)\n",
    "        \n",
    "        # check if split results in at least minimum samples in each nodes\n",
    "        if len(left_in) <=self.min_samples_leaf or len(right_in) <=  self.min_samples_leaf:\n",
    "            leaf_value = self._voted_label(y)\n",
    "            return Node(value = leaf_value)\n",
    "      \n",
    "        leftX_node, rightX_node = X[left_in,:], X[right_in,:]\n",
    "        lefty_node ,righty_node = y[left_in], y[right_in]\n",
    "                      \n",
    "        # recursively build sub trees\n",
    "        left =  self._build_tree(leftX_node, lefty_node, depth + 1)\n",
    "        right = self._build_tree(rightX_node, righty_node, depth +1 )\n",
    "        \n",
    "        return Node(feature,threshold=thresh ,left= left,right = right)  \n",
    "        \n",
    "    def _find_best_split(self,X,y,feat_indices):\n",
    "        # find the feature and threshold that result in the best split\n",
    "        best_gain = -1\n",
    "        best_feature = 0\n",
    "        best_threshold = 0\n",
    "        for feat in feat_indices:\n",
    "    \n",
    "            X_column = X[:,feat]\n",
    "            threshold = np.unique(X_column)\n",
    "           \n",
    "            for thresh in threshold:\n",
    "                gain = self._information_gain(X_column,y,split_thresh = thresh)\n",
    "\n",
    "                if gain > best_gain:\n",
    "                    best_gain = gain\n",
    "                    best_threshold = thresh\n",
    "                    best_feature = feat\n",
    "   \n",
    "        return best_feature ,best_threshold     \n",
    "    \n",
    "    def _split_dataset(self,X_column,split_thresh):\n",
    "        ## split our dataset using element of a particular feature and given threshold\n",
    "        left_indices = np.argwhere(X_column <= split_thresh).flatten()\n",
    "        right_indices = np.argwhere(X_column > split_thresh).flatten()\n",
    "        return left_indices,right_indices\n",
    "    \n",
    "    def _entropy(self,y):\n",
    "        if len(y) == 0: # Check if the list is empty\n",
    "            return 0 \n",
    "        hist = np.bincount(y)\n",
    "        px = hist / len(y)\n",
    "        entropy = - np.sum([p * np.log2(p) for p in px if p>0])\n",
    "        return entropy\n",
    "    \n",
    "    def _information_gain(self,X_column,y,split_thresh):\n",
    "        left_indices,right_indices =  self._split_dataset(X_column,split_thresh)  \n",
    "        if len(left_indices) == 0 or len(right_indices) ==0:\n",
    "            return 0\n",
    "\n",
    "        node_left,node_right = y[left_indices],y[right_indices]\n",
    "        frac_left = len(node_left)/len(y)\n",
    "        frac_right = 1 - frac_left\n",
    "        \n",
    "        root_entropy =self._entropy(y)\n",
    "        child_entropy = frac_left * self._entropy(node_left) + frac_right * self._entropy(node_right)\n",
    "        \n",
    "        information_gain = root_entropy - child_entropy\n",
    "        return information_gain \n",
    "    \n",
    "    def _voted_label(self, y):\n",
    "        # returns the model with the highest label\n",
    "        counter = Counter(y)\n",
    "\n",
    "        return counter.most_common(1)[0][0]\n",
    "    \n",
    "    def predict(self,X):\n",
    "        if not isinstance(X,np.ndarray):\n",
    "            X = X.values\n",
    "       \n",
    "        predictions_across = np.zeros((self.n_trees,X.shape[0]),dtype=np.int64)\n",
    "        \n",
    "        # store predictions across trees in array\n",
    "        for i in range(self.n_trees):\n",
    "            v = np.array([self._tranverse_tree(x,self.trees[i]) for x in X ])\n",
    "            predictions_across[i,:] = v\n",
    "       \n",
    "        # find the mode of each rows across the entire trees\n",
    "        return stats.mode(predictions_across)[0].flatten()\n",
    "    \n",
    "    def _tranverse_tree(self,x,node):\n",
    "        \"\"\"\n",
    "        We tranverse our tree from the root node until we reach a leaf node\n",
    "        \"\"\"\n",
    "        if node.is_leaf_node():\n",
    "            return node.value\n",
    "        \n",
    "        if x[node.feature] <= node.threshold:\n",
    "            return self._tranverse_tree(x,node.left)\n",
    "        return self._tranverse_tree(x,node.right)"
   ]
  },
  {
   "cell_type": "markdown",
   "id": "f4e0efc5",
   "metadata": {},
   "source": [
    "## Training our model "
   ]
  },
  {
   "cell_type": "code",
   "execution_count": 232,
   "id": "b0b566e8",
   "metadata": {},
   "outputs": [],
   "source": [
    "## Instantializing our model\n",
    "tree =  RandomForest(n_trees=13,max_depth=100,min_samples_split = 3,min_samples_leaf=3)\n",
    "tree.fit(X_train,y_train)"
   ]
  },
  {
   "cell_type": "code",
   "execution_count": 233,
   "id": "9d96edf4",
   "metadata": {},
   "outputs": [
    {
     "name": "stdout",
     "output_type": "stream",
     "text": [
      "accuracy on the training set: 0.950\n"
     ]
    }
   ],
   "source": [
    "y_pred = tree.predict(X_train)\n",
    "\n",
    "acc_train = accuracy_score(y_train,y_pred)\n",
    "print(f\"accuracy on the training set: {acc_train :.3f}\")"
   ]
  },
  {
   "cell_type": "markdown",
   "id": "b513cf71",
   "metadata": {},
   "source": [
    "## Testing our model"
   ]
  },
  {
   "cell_type": "code",
   "execution_count": 234,
   "id": "7e7a8538",
   "metadata": {},
   "outputs": [
    {
     "name": "stdout",
     "output_type": "stream",
     "text": [
      "accuracy on the testing set: 1.000\n"
     ]
    }
   ],
   "source": [
    "## calling predict on the test set\n",
    "y_pred = tree.predict(X_test)\n",
    "\n",
    "## calculating the accuracy of our model \n",
    "acc_test = accuracy_score(y_test,y_pred)\n",
    "print(f\"accuracy on the testing set: {acc_test:.3f}\")"
   ]
  },
  {
   "cell_type": "markdown",
   "id": "0c375404",
   "metadata": {},
   "source": [
    "[learn more about random forest from here](http://www2.stat.duke.edu/~rcs46/lectures_2017/08-trees/08-tree-advanced.pdf)"
   ]
  }
 ],
 "metadata": {
  "kernelspec": {
   "display_name": "Python 3 (ipykernel)",
   "language": "python",
   "name": "python3"
  },
  "language_info": {
   "codemirror_mode": {
    "name": "ipython",
    "version": 3
   },
   "file_extension": ".py",
   "mimetype": "text/x-python",
   "name": "python",
   "nbconvert_exporter": "python",
   "pygments_lexer": "ipython3",
   "version": "3.9.7"
  }
 },
 "nbformat": 4,
 "nbformat_minor": 5
}
