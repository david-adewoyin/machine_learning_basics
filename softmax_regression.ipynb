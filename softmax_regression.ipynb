{
 "cells": [
  {
   "cell_type": "markdown",
   "id": "ecd5c6e9",
   "metadata": {},
   "source": [
    "<a href=\"https://colab.research.google.com/github/david-adewoyin/machine_learning_from_scatch/blob/main/softmax_regression.ipynb\" target=\"_parent\"><img src=\"https://colab.research.google.com/assets/colab-badge.svg\" alt=\"Open In Colab\"/></a>"
   ]
  },
  {
   "cell_type": "markdown",
   "id": "7d3ccfbc",
   "metadata": {},
   "source": [
    "## Softmax Regression\n",
    "### Softmax Regression in Plain Python\n",
    "*Softmax Regression* also called *multinomial * is a generalization of the logistic regression to multiple classes\n",
    "### Notation and Definitions:  \n",
    "- $y:   $    target value $\\in \\{{0,1,...k}\\}$. where $k$ is the number of classes\n",
    "- $a:$is the activation function\n",
    "- $\\boldsymbol{x}:   $    independent (explanatory) variable also known as the input variable or feature.\n",
    "- $\\alpha:$ is the learning rate which determmines the step size at each iteration\n",
    "\n",
    "- $\\boldsymbol{W},b :   $ are the parameters of the algorithm, where \n",
    "    - $W$ is a matrix of weights associated with each class and \n",
    "    - $b$ is a vector which element are the bias of each class  \n",
    "- $(\\boldsymbol{x^{(i)}},y^{(i)})$: an instance of a training example.\n",
    "\n",
    "The goal of **softmax** regression is to predict the target label given the feature vector of a data point where the target label could be one of many classes unlike the logistic regression which is strictly binary. The softmax regression works by outputing the likelihood of the target label being one of the classes and return the class with the highest likelihood.\n",
    "\n",
    "### Training using Gradient Descent \n",
    "\n",
    "- In softmax regression we minimize the cost function below \n",
    "\n",
    "$$ J(\\mathbf{w},b) = -\\frac{1}{M} \\sum_{i=1}^{M} \\sum_{j=1}^{N} \\left[{\\boldsymbol{1}y^{(i)}==j} \\boldsymbol{\\log}\\frac{e_j^{z(i)}}{\\sum_{k=1}^{N}e_k^{z(k)}} \\right] \\tag{1} $$\n",
    "\n",
    "where the **loss** of a single training data is given as :  \n",
    "$$  L(a_1,a_2,a_3,..,a_N) = \\begin{cases} \n",
    " \\text{- } log(a_1)  &   \\text{if $y^{(i)} = 1$ }    \\\\\n",
    "\\text{- }log(a_2) & \\text{if $y^{(i)} = 2$} \\\\\n",
    "\\vdots\\\\\n",
    "  \\text{- } log(a_N)  &   \\text{if $y^{(i)} = N$ }  \n",
    "\\end{cases}$$ \n",
    "\n",
    "  \n",
    "**Steps:**   \n",
    "Step 0: initialize the weights and bias of every classes at random and store them in matrix $\\boldsymbol{M} \\text{and } \\boldsymbol{b}$  \n",
    "\n",
    "\n",
    "**Repeat until convergence {**   \n",
    "Step 1 : calculate the linear combination of the **feature vectors** $\\boldsymbol{x_{i}}$ with the weights and bias of every class.   \n",
    "$$\n",
    "z_1 = \\boldsymbol{w_1 \\cdot x} + b_1 \\\\\n",
    "z_2 = \\boldsymbol{w_2 \\cdot x} + b_2 \\\\\n",
    "\\vdots \\\\\n",
    "z_n = \\boldsymbol{w_3 \\cdot x} + b_n\n",
    "$$  \n",
    "Step 2: compute the activation function $a_i$ which ouput the likelihood of the various classes :\n",
    "$$\n",
    "a_1 = P(y=1|\\boldsymbol{x}) = \\frac{e^{z(1)}}{e^{z(1)} +e^{z(2)} + \\cdots + e^{z(n)}} \\\\\n",
    "a_2 = P(y=2|\\boldsymbol{x}) = \\frac{e^{z(2)}}{e^{z(1)} +e^{z(2)} + \\cdots + e^{z(n)}} \\\\\n",
    "\\vdots\\\\\n",
    "a_n = P(y=n|\\boldsymbol{x}) = \\frac{e^{z(n)}}{e^{z(1)} +e^{z(2)} + \\cdots + e^{z(n)}} \\\\\n",
    "$$\n",
    "  \n",
    "Step 3:  calculate the partial derivates of **w** and *b* where **y** and $ \\boldsymbol{y^{hat}}$ are one hot matrix of the true value and likelihood of the various classes respectively. $ \\boldsymbol{y^{hat}} = [a_1,a_2,...,a_n]$ :\n",
    "\n",
    "\n",
    "$$  \n",
    "\\begin{align}\n",
    "\\frac{\\partial}{\\partial w_j} J(\\boldsymbol{w},b) = \\frac{1}{m}\\sum\\limits_{i=1}^{m}(y^{hat} - y^{(i)})\\boldsymbol{X_j^{(i)}} \\tag{2} \\\\\n",
    "\\frac{\\partial}{\\partial b} J(\\boldsymbol{w},b) = \\frac{1}{m}\\sum\\limits_{i=1}^{m}(y^{hat} - y^{(i)}) \\tag{3}\n",
    "\\end{align}\n",
    "$$ \n",
    "Step 4: update **w** and *b* respectively:   \n",
    "\n",
    "$$  \n",
    "\\begin{align}\n",
    "w_{j} = w_{j} - \\alpha \\frac{\\partial}{\\partial w_j} J(\\boldsymbol{w,b})  \\tag{4} \\\\ \n",
    "b_{j} = b_{j} - \\alpha \\frac{\\partial}{\\partial b} J(\\boldsymbol{w,b})  \\tag{5}\n",
    "\\end{align}\n",
    "$$  \n",
    "**}**  "
   ]
  },
  {
   "cell_type": "code",
   "execution_count": 1,
   "id": "39bb13d9",
   "metadata": {},
   "outputs": [],
   "source": [
    "## Importing required modules\n",
    "\n",
    "import numpy as np\n",
    "import matplotlib.pyplot as plt\n",
    "from sklearn.datasets import load_iris\n",
    "from sklearn.model_selection import train_test_split\n",
    "from sklearn.metrics import accuracy_score\n",
    "import seaborn as sns\n",
    "\n",
    "np.random.seed(150)\n",
    "sns.set_style(\"whitegrid\")\n",
    "sns.set_palette(\"colorblind\")"
   ]
  },
  {
   "cell_type": "markdown",
   "id": "ce7f64f9",
   "metadata": {},
   "source": [
    "### Datasets\n",
    "We are going to use the iris dataset for this example where we try to predict the various species of the iris flower given a data point"
   ]
  },
  {
   "cell_type": "code",
   "execution_count": 2,
   "id": "7e5c27e2",
   "metadata": {},
   "outputs": [
    {
     "name": "stdout",
     "output_type": "stream",
     "text": [
      "X shape : (150, 4)\n",
      "The features of the datasets: ['sepal length (cm)', 'sepal width (cm)', 'petal length (cm)', 'petal width (cm)']\n",
      "The species of the iris datasets to classify :['setosa' 'versicolor' 'virginica']\n"
     ]
    }
   ],
   "source": [
    "## We are going to use the popular iris datasets consisting of 150 training examples and four features\n",
    "## the goal of this algorithm is to classify the four(4) species of the iris flower given a set of input features\n",
    "\n",
    "iris = load_iris()\n",
    "X,y=iris.data,iris.target\n",
    "\n",
    "print(f\"X shape : {X.shape}\") # We have 150 training examples consisting of 4 input features each\n",
    "print(f\"The features of the datasets: {iris.feature_names}\")\n",
    "print(f\"The species of the iris datasets to classify :{iris.target_names}\")"
   ]
  },
  {
   "cell_type": "code",
   "execution_count": 3,
   "id": "7f563b7c",
   "metadata": {},
   "outputs": [
    {
     "name": "stdout",
     "output_type": "stream",
     "text": [
      "X_train shape: (105, 4)\n",
      "X_test shape:(45, 4)\n"
     ]
    }
   ],
   "source": [
    "## We split the data in order to be able to test the accuracy of our model\n",
    "X_train,X_test,y_train,y_test=train_test_split(X,y,test_size=0.3) \n",
    "print(f\"X_train shape: {X_train.shape}\")\n",
    "print(f\"X_test shape:{X_test.shape}\")"
   ]
  },
  {
   "cell_type": "code",
   "execution_count": 4,
   "id": "a98f7e62",
   "metadata": {},
   "outputs": [
    {
     "data": {
      "text/plain": [
       "<matplotlib.legend.Legend at 0x7f9cbd874790>"
      ]
     },
     "execution_count": 4,
     "metadata": {},
     "output_type": "execute_result"
    },
    {
     "data": {
      "image/png": "[encoded data removed]",
      "text/plain": [
       "<Figure size 576x432 with 1 Axes>"
      ]
     },
     "metadata": {},
     "output_type": "display_data"
    }
   ],
   "source": [
    "fig,ax=plt.subplots(figsize=(8,6))\n",
    "\n",
    "## plotting the Sepal length against Sepal width of each examples\n",
    "sns.scatterplot(x=X_train[:,0],y=X_train[:,1],hue=y_train,style=y_train,palette='colorblind')\n",
    "\n",
    "plt.xlabel(\"Sepal length (cm)\")\n",
    "plt.ylabel(\"Sepal width (cm)\")\n",
    "plt.title(\"Sepal length vs Sepal width \")\n",
    "plt.legend(iris.target_names)"
   ]
  },
  {
   "cell_type": "markdown",
   "id": "69044a56",
   "metadata": {},
   "source": [
    "## Softmax Regression"
   ]
  },
  {
   "cell_type": "code",
   "execution_count": 5,
   "id": "e3e2d05a",
   "metadata": {},
   "outputs": [],
   "source": [
    "class SoftmaxRegression:\n",
    "    \"\"\"\n",
    "        Trains a softmax regression model using gradient descent\n",
    "        \"\"\"\n",
    "    def __init__(self, n_iters=1_000,learning_rate=0.01,verbose=False):\n",
    "        self.n_iters= n_iters\n",
    "        self.learning_rate = learning_rate\n",
    "        self.verbose = verbose\n",
    "    \n",
    "    def predict(self,X):\n",
    "        scores = self.compute_scores(X)\n",
    "        probs = self.activation(scores)\n",
    "        return np.argmax(probs,axis=1)[:,np.newaxis]\n",
    "    \n",
    "    def compute_scores(self,X):\n",
    "        z = np.dot(X , self.W.T)  + self.b \n",
    "        return z\n",
    "        \n",
    "    def fit(self,X,y):\n",
    "        \n",
    "        m_rows,n_features  = X.shape # (number of examples, number of features )\n",
    "        self.classes =np.unique(y)\n",
    "        self.n_classes = self.classes.shape[0]\n",
    "        \n",
    "        ## initialize  the set of weights and bias to some random value\n",
    "        self.W = np.zeros((self.n_classes,n_features))\n",
    "        self.b = np.zeros((1,self.n_classes,))\n",
    "        costs= []\n",
    "        \n",
    "        y_hot = self.one_hot_encoder(y)\n",
    "        \n",
    "        for i in range(self.n_iters):\n",
    "            m_rows,n_features  = X.shape # (number of examples, number of features \n",
    "        \n",
    "            scores = self.compute_scores(X)\n",
    "            probs = self.activation(scores)\n",
    "            \n",
    "            cost = self.cross_entropy(y_hot,probs)\n",
    "            costs.append(cost)\n",
    "            \n",
    "            dj_dw = (np.dot(X.T,probs - y_hot))/m_rows\n",
    "            dj_db = np.sum(probs-y_hot,axis=0)/m_rows\n",
    "        \n",
    "            self.W = self.W -  self.learning_rate * dj_dw.T\n",
    "            self.b = self.b -  self.learning_rate * dj_db \n",
    "            \n",
    "            if  self.verbose and i % 100 == 0 : # print out the value of our costs function at every 500 iterations\n",
    "                print(f\"Cost as iteration {i}: {cost :.3f}\")\n",
    "            \n",
    "            \n",
    "    def cross_entropy(self,y_true,probs):\n",
    "        m_rows = y_true.shape[0]\n",
    "        loss = - (1 / 150) * np.sum(y_true * np.log(probs))\n",
    "        return loss\n",
    "               \n",
    "    def activation(self,scores):\n",
    "        exp = np.exp(scores)\n",
    "        sum_exp = np.sum(np.exp(scores), axis=1, keepdims=True)\n",
    "        softmax = exp / sum_exp\n",
    "        return softmax\n",
    "\n",
    "    \n",
    "    def one_hot_encoder(self,y):\n",
    "        m_rows = y.shape[0]\n",
    "        one_hot = np.zeros((m_rows,self.n_classes))\n",
    "        one_hot[np.arange(m_rows),y.T] = 1\n",
    "        return one_hot\n",
    "        \n",
    "       "
   ]
  },
  {
   "cell_type": "markdown",
   "id": "8a7d4575",
   "metadata": {},
   "source": [
    "## Training our model "
   ]
  },
  {
   "cell_type": "code",
   "execution_count": 6,
   "id": "87ef9e21",
   "metadata": {},
   "outputs": [
    {
     "name": "stdout",
     "output_type": "stream",
     "text": [
      "accuracy on the training set: 0.952\n"
     ]
    }
   ],
   "source": [
    "clf =SoftmaxRegression()\n",
    "clf.fit(X_train,y_train)\n",
    "y_pred_train= clf.predict(X_train)\n",
    "\n",
    "acc_train = accuracy_score(y_train,y_pred_train)\n",
    "print(f\"accuracy on the training set: {acc_train :.3f}\")"
   ]
  },
  {
   "cell_type": "markdown",
   "id": "3b2d99ae",
   "metadata": {},
   "source": [
    "## Testing our model"
   ]
  },
  {
   "cell_type": "code",
   "execution_count": 7,
   "id": "04b923f2",
   "metadata": {},
   "outputs": [
    {
     "name": "stdout",
     "output_type": "stream",
     "text": [
      "accuracy on the testing set: 0.911\n"
     ]
    }
   ],
   "source": [
    "## calling predict on the test set\n",
    "y_pred_test=clf.predict(X_test)\n",
    "\n",
    "## calculating the accuracy of our model \n",
    "acc_test=accuracy_score(y_test,y_pred_test)\n",
    "print(f\"accuracy on the testing set: {acc_test:.3f}\")"
   ]
  },
  {
   "cell_type": "code",
   "execution_count": null,
   "id": "594633be",
   "metadata": {},
   "outputs": [],
   "source": []
  }
 ],
 "metadata": {
  "kernelspec": {
   "display_name": "Python 3 (ipykernel)",
   "language": "python",
   "name": "python3"
  },
  "language_info": {
   "codemirror_mode": {
    "name": "ipython",
    "version": 3
   },
   "file_extension": ".py",
   "mimetype": "text/x-python",
   "name": "python",
   "nbconvert_exporter": "python",
   "pygments_lexer": "ipython3",
   "version": "3.9.7"
  }
 },
 "nbformat": 4,
 "nbformat_minor": 5
}
